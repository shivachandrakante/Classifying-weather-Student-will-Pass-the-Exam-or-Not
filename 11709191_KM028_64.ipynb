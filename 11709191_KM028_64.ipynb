{
 "cells": [
  {
   "cell_type": "markdown",
   "metadata": {},
   "source": [
    "# Classifying weather a student will Pass a course or Not.  "
   ]
  },
  {
   "cell_type": "markdown",
   "metadata": {},
   "source": [
    "### Classifying in the course -> Dual Degree Bachelor of Technology - Master of Technology (Mechanical Engineering)"
   ]
  },
  {
   "cell_type": "markdown",
   "metadata": {},
   "source": [
    "#### This Course is a Theory type and in this dataset, we have only 8 Rows, so I am training my models on the entire data except for this course and try to predict (Dual Degree Bachelor of Technology - Master of Technology (Mechanical Engineering))\n"
   ]
  },
  {
   "cell_type": "code",
   "execution_count": 1,
   "metadata": {},
   "outputs": [],
   "source": [
    "import numpy as np       #Importing Numerical Python(Numpy)\n",
    "import pandas as pd      #Importing Pandas"
   ]
  },
  {
   "cell_type": "code",
   "execution_count": 2,
   "metadata": {},
   "outputs": [],
   "source": [
    "#Reading the dataset using read_csv function in pandas library\n",
    "data=pd.read_csv(r'C:\\Users\\Shiva Chandra\\Desktop\\ML\\Project Sem 2 Year 3\\DATA-FINAL.csv')"
   ]
  },
  {
   "cell_type": "code",
   "execution_count": 3,
   "metadata": {},
   "outputs": [
    {
     "data": {
      "text/plain": [
       "(65535, 22)"
      ]
     },
     "execution_count": 3,
     "metadata": {},
     "output_type": "execute_result"
    }
   ],
   "source": [
    "#data.shape gives us the no.of rows and columns the dataset consists of.\n",
    "data.shape"
   ]
  },
  {
   "cell_type": "code",
   "execution_count": 4,
   "metadata": {},
   "outputs": [
    {
     "data": {
      "text/html": [
       "<div>\n",
       "<style scoped>\n",
       "    .dataframe tbody tr th:only-of-type {\n",
       "        vertical-align: middle;\n",
       "    }\n",
       "\n",
       "    .dataframe tbody tr th {\n",
       "        vertical-align: top;\n",
       "    }\n",
       "\n",
       "    .dataframe thead th {\n",
       "        text-align: right;\n",
       "    }\n",
       "</style>\n",
       "<table border=\"1\" class=\"dataframe\">\n",
       "  <thead>\n",
       "    <tr style=\"text-align: right;\">\n",
       "      <th></th>\n",
       "      <th>Termid</th>\n",
       "      <th>Regd No</th>\n",
       "      <th>Course</th>\n",
       "      <th>Grade</th>\n",
       "      <th>CA_100</th>\n",
       "      <th>MTT_50</th>\n",
       "      <th>ETT_100</th>\n",
       "      <th>ETP_100</th>\n",
       "      <th>Course_Att</th>\n",
       "      <th>MHRDName</th>\n",
       "      <th>...</th>\n",
       "      <th>CA_3</th>\n",
       "      <th>CA_4</th>\n",
       "      <th>Height</th>\n",
       "      <th>Weight</th>\n",
       "      <th>ScholarType</th>\n",
       "      <th>Direction</th>\n",
       "      <th>Gender</th>\n",
       "      <th>Medium</th>\n",
       "      <th>CourseType</th>\n",
       "      <th>ProgramType</th>\n",
       "    </tr>\n",
       "  </thead>\n",
       "  <tbody>\n",
       "    <tr>\n",
       "      <td>0</td>\n",
       "      <td>318192</td>\n",
       "      <td>1101776</td>\n",
       "      <td>KVY1</td>\n",
       "      <td>O</td>\n",
       "      <td>87.0</td>\n",
       "      <td>39.0</td>\n",
       "      <td>82.0</td>\n",
       "      <td>89.0</td>\n",
       "      <td>88.0</td>\n",
       "      <td>Bachelor of Science (Honours) (Agriculture)</td>\n",
       "      <td>...</td>\n",
       "      <td>1.0</td>\n",
       "      <td>0.0</td>\n",
       "      <td>181</td>\n",
       "      <td>65</td>\n",
       "      <td>Hostler</td>\n",
       "      <td>North</td>\n",
       "      <td>Female</td>\n",
       "      <td>Hindi</td>\n",
       "      <td>Theory</td>\n",
       "      <td>UG</td>\n",
       "    </tr>\n",
       "    <tr>\n",
       "      <td>1</td>\n",
       "      <td>318192</td>\n",
       "      <td>1101776</td>\n",
       "      <td>KVY147</td>\n",
       "      <td>A+</td>\n",
       "      <td>87.0</td>\n",
       "      <td>47.0</td>\n",
       "      <td>65.0</td>\n",
       "      <td>85.0</td>\n",
       "      <td>82.0</td>\n",
       "      <td>Bachelor of Science (Honours) (Agriculture)</td>\n",
       "      <td>...</td>\n",
       "      <td>0.0</td>\n",
       "      <td>1.0</td>\n",
       "      <td>181</td>\n",
       "      <td>65</td>\n",
       "      <td>Hostler</td>\n",
       "      <td>North</td>\n",
       "      <td>Female</td>\n",
       "      <td>Hindi</td>\n",
       "      <td>Theory</td>\n",
       "      <td>UG</td>\n",
       "    </tr>\n",
       "    <tr>\n",
       "      <td>2</td>\n",
       "      <td>318192</td>\n",
       "      <td>1101776</td>\n",
       "      <td>KVY148</td>\n",
       "      <td>B+</td>\n",
       "      <td>84.0</td>\n",
       "      <td>29.0</td>\n",
       "      <td>63.0</td>\n",
       "      <td>77.0</td>\n",
       "      <td>76.0</td>\n",
       "      <td>Bachelor of Science (Honours) (Agriculture)</td>\n",
       "      <td>...</td>\n",
       "      <td>3.0</td>\n",
       "      <td>5.0</td>\n",
       "      <td>181</td>\n",
       "      <td>65</td>\n",
       "      <td>Hostler</td>\n",
       "      <td>North</td>\n",
       "      <td>Female</td>\n",
       "      <td>Hindi</td>\n",
       "      <td>Theory</td>\n",
       "      <td>UG</td>\n",
       "    </tr>\n",
       "    <tr>\n",
       "      <td>3</td>\n",
       "      <td>318192</td>\n",
       "      <td>1101776</td>\n",
       "      <td>KVY2</td>\n",
       "      <td>A+</td>\n",
       "      <td>NaN</td>\n",
       "      <td>NaN</td>\n",
       "      <td>NaN</td>\n",
       "      <td>82.0</td>\n",
       "      <td>74.0</td>\n",
       "      <td>Bachelor of Science (Honours) (Agriculture)</td>\n",
       "      <td>...</td>\n",
       "      <td>NaN</td>\n",
       "      <td>NaN</td>\n",
       "      <td>181</td>\n",
       "      <td>65</td>\n",
       "      <td>Hostler</td>\n",
       "      <td>North</td>\n",
       "      <td>Female</td>\n",
       "      <td>Hindi</td>\n",
       "      <td>Practical</td>\n",
       "      <td>UG</td>\n",
       "    </tr>\n",
       "    <tr>\n",
       "      <td>4</td>\n",
       "      <td>318192</td>\n",
       "      <td>1101776</td>\n",
       "      <td>KVY3</td>\n",
       "      <td>A+</td>\n",
       "      <td>87.0</td>\n",
       "      <td>34.0</td>\n",
       "      <td>68.0</td>\n",
       "      <td>89.0</td>\n",
       "      <td>76.0</td>\n",
       "      <td>Bachelor of Science (Honours) (Agriculture)</td>\n",
       "      <td>...</td>\n",
       "      <td>2.0</td>\n",
       "      <td>17.0</td>\n",
       "      <td>181</td>\n",
       "      <td>65</td>\n",
       "      <td>Hostler</td>\n",
       "      <td>North</td>\n",
       "      <td>Female</td>\n",
       "      <td>Hindi</td>\n",
       "      <td>Theory</td>\n",
       "      <td>UG</td>\n",
       "    </tr>\n",
       "  </tbody>\n",
       "</table>\n",
       "<p>5 rows × 22 columns</p>\n",
       "</div>"
      ],
      "text/plain": [
       "   Termid  Regd No  Course Grade  CA_100  MTT_50  ETT_100  ETP_100  \\\n",
       "0  318192  1101776    KVY1     O    87.0    39.0     82.0     89.0   \n",
       "1  318192  1101776  KVY147    A+    87.0    47.0     65.0     85.0   \n",
       "2  318192  1101776  KVY148    B+    84.0    29.0     63.0     77.0   \n",
       "3  318192  1101776    KVY2    A+     NaN     NaN      NaN     82.0   \n",
       "4  318192  1101776    KVY3    A+    87.0    34.0     68.0     89.0   \n",
       "\n",
       "   Course_Att                                     MHRDName  ...  CA_3  CA_4  \\\n",
       "0        88.0  Bachelor of Science (Honours) (Agriculture)  ...   1.0   0.0   \n",
       "1        82.0  Bachelor of Science (Honours) (Agriculture)  ...   0.0   1.0   \n",
       "2        76.0  Bachelor of Science (Honours) (Agriculture)  ...   3.0   5.0   \n",
       "3        74.0  Bachelor of Science (Honours) (Agriculture)  ...   NaN   NaN   \n",
       "4        76.0  Bachelor of Science (Honours) (Agriculture)  ...   2.0  17.0   \n",
       "\n",
       "   Height  Weight  ScholarType  Direction  Gender Medium CourseType  \\\n",
       "0     181      65      Hostler      North  Female  Hindi     Theory   \n",
       "1     181      65      Hostler      North  Female  Hindi     Theory   \n",
       "2     181      65      Hostler      North  Female  Hindi     Theory   \n",
       "3     181      65      Hostler      North  Female  Hindi  Practical   \n",
       "4     181      65      Hostler      North  Female  Hindi     Theory   \n",
       "\n",
       "  ProgramType  \n",
       "0          UG  \n",
       "1          UG  \n",
       "2          UG  \n",
       "3          UG  \n",
       "4          UG  \n",
       "\n",
       "[5 rows x 22 columns]"
      ]
     },
     "execution_count": 4,
     "metadata": {},
     "output_type": "execute_result"
    }
   ],
   "source": [
    "#data.head gives us the Top 5 rows of the DataFrame\n",
    "data.head()"
   ]
  },
  {
   "cell_type": "code",
   "execution_count": 5,
   "metadata": {},
   "outputs": [
    {
     "data": {
      "text/plain": [
       "Index(['Termid', 'Regd No', 'Course', 'Grade', 'CA_100', 'MTT_50', 'ETT_100',\n",
       "       'ETP_100', 'Course_Att', 'MHRDName', 'CA_1', 'CA_2', 'CA_3', 'CA_4',\n",
       "       'Height', 'Weight', 'ScholarType', 'Direction', 'Gender', 'Medium',\n",
       "       'CourseType', 'ProgramType'],\n",
       "      dtype='object')"
      ]
     },
     "execution_count": 5,
     "metadata": {},
     "output_type": "execute_result"
    }
   ],
   "source": [
    "#data.columns gives us the name of the columns present in the DataFrame\n",
    "data.columns"
   ]
  },
  {
   "cell_type": "code",
   "execution_count": 6,
   "metadata": {},
   "outputs": [
    {
     "data": {
      "text/plain": [
       "135"
      ]
     },
     "execution_count": 6,
     "metadata": {},
     "output_type": "execute_result"
    }
   ],
   "source": [
    "#In this cell, I am trying to get how many i.e no.of uniques courses.\n",
    "data['MHRDName'].nunique()"
   ]
  },
  {
   "cell_type": "code",
   "execution_count": 7,
   "metadata": {},
   "outputs": [
    {
     "data": {
      "text/plain": [
       "2"
      ]
     },
     "execution_count": 7,
     "metadata": {},
     "output_type": "execute_result"
    }
   ],
   "source": [
    "#Same as the above cell but with the program type column\n",
    "data['ProgramType'].nunique()"
   ]
  },
  {
   "cell_type": "code",
   "execution_count": 8,
   "metadata": {},
   "outputs": [
    {
     "data": {
      "text/plain": [
       "UG    64635\n",
       "PG      900\n",
       "Name: ProgramType, dtype: int64"
      ]
     },
     "execution_count": 8,
     "metadata": {},
     "output_type": "execute_result"
    }
   ],
   "source": [
    "#By the above cell we Know that there are two type of programs, now in this cell we are trying the how many no.of a program \n",
    "#repeating\n",
    "data['ProgramType'].value_counts()"
   ]
  },
  {
   "cell_type": "code",
   "execution_count": 9,
   "metadata": {},
   "outputs": [
    {
     "data": {
      "text/plain": [
       "array(['O', 'A+', 'B+', 'A', 'F', 'E', 'C', 'D', 'B', 'R', 'I', 'FAIL',\n",
       "       'ReApp', 'PASS', 'M', 'S'], dtype=object)"
      ]
     },
     "execution_count": 9,
     "metadata": {},
     "output_type": "execute_result"
    }
   ],
   "source": [
    "#In this cell we trying to get unique grades\n",
    "data['Grade'].unique()"
   ]
  },
  {
   "cell_type": "code",
   "execution_count": 10,
   "metadata": {},
   "outputs": [
    {
     "data": {
      "text/plain": [
       "2"
      ]
     },
     "execution_count": 10,
     "metadata": {},
     "output_type": "execute_result"
    }
   ],
   "source": [
    "data['CourseType'].nunique()"
   ]
  },
  {
   "cell_type": "code",
   "execution_count": 11,
   "metadata": {},
   "outputs": [
    {
     "data": {
      "text/plain": [
       "Termid             0\n",
       "Regd No            0\n",
       "Course             0\n",
       "Grade              0\n",
       "CA_100          2566\n",
       "MTT_50         27121\n",
       "ETT_100        25836\n",
       "ETP_100        35891\n",
       "Course_Att      6081\n",
       "MHRDName           0\n",
       "CA_1            2566\n",
       "CA_2            2566\n",
       "CA_3            2566\n",
       "CA_4            2566\n",
       "Height             0\n",
       "Weight             0\n",
       "ScholarType        0\n",
       "Direction          0\n",
       "Gender             0\n",
       "Medium             0\n",
       "CourseType         0\n",
       "ProgramType        0\n",
       "dtype: int64"
      ]
     },
     "execution_count": 11,
     "metadata": {},
     "output_type": "execute_result"
    }
   ],
   "source": [
    "#In this cell we are going to get the no.of null values in each column \n",
    "data.isnull().sum()"
   ]
  },
  {
   "cell_type": "code",
   "execution_count": 12,
   "metadata": {
    "scrolled": true
   },
   "outputs": [
    {
     "data": {
      "text/html": [
       "<div>\n",
       "<style scoped>\n",
       "    .dataframe tbody tr th:only-of-type {\n",
       "        vertical-align: middle;\n",
       "    }\n",
       "\n",
       "    .dataframe tbody tr th {\n",
       "        vertical-align: top;\n",
       "    }\n",
       "\n",
       "    .dataframe thead th {\n",
       "        text-align: right;\n",
       "    }\n",
       "</style>\n",
       "<table border=\"1\" class=\"dataframe\">\n",
       "  <thead>\n",
       "    <tr style=\"text-align: right;\">\n",
       "      <th></th>\n",
       "      <th>Termid</th>\n",
       "      <th>Regd No</th>\n",
       "      <th>Course</th>\n",
       "      <th>Grade</th>\n",
       "      <th>CA_100</th>\n",
       "      <th>MTT_50</th>\n",
       "      <th>ETT_100</th>\n",
       "      <th>ETP_100</th>\n",
       "      <th>Course_Att</th>\n",
       "      <th>MHRDName</th>\n",
       "      <th>...</th>\n",
       "      <th>CA_3</th>\n",
       "      <th>CA_4</th>\n",
       "      <th>Height</th>\n",
       "      <th>Weight</th>\n",
       "      <th>ScholarType</th>\n",
       "      <th>Direction</th>\n",
       "      <th>Gender</th>\n",
       "      <th>Medium</th>\n",
       "      <th>CourseType</th>\n",
       "      <th>ProgramType</th>\n",
       "    </tr>\n",
       "  </thead>\n",
       "  <tbody>\n",
       "    <tr>\n",
       "      <td>12</td>\n",
       "      <td>518192</td>\n",
       "      <td>1103776</td>\n",
       "      <td>OLZ7</td>\n",
       "      <td>A+</td>\n",
       "      <td>87.0</td>\n",
       "      <td>NaN</td>\n",
       "      <td>NaN</td>\n",
       "      <td>69.0</td>\n",
       "      <td>NaN</td>\n",
       "      <td>Master of Computer Applications (2 Year progra...</td>\n",
       "      <td>...</td>\n",
       "      <td>16.0</td>\n",
       "      <td>1.0</td>\n",
       "      <td>170</td>\n",
       "      <td>66</td>\n",
       "      <td>Hostler</td>\n",
       "      <td>West</td>\n",
       "      <td>Male</td>\n",
       "      <td>Regional</td>\n",
       "      <td>Theory</td>\n",
       "      <td>PG</td>\n",
       "    </tr>\n",
       "    <tr>\n",
       "      <td>13</td>\n",
       "      <td>418192</td>\n",
       "      <td>1104776</td>\n",
       "      <td>XPH10</td>\n",
       "      <td>F</td>\n",
       "      <td>0.0</td>\n",
       "      <td>NaN</td>\n",
       "      <td>NaN</td>\n",
       "      <td>0.0</td>\n",
       "      <td>NaN</td>\n",
       "      <td>Bachelor of Technology in Mechanical Engineering</td>\n",
       "      <td>...</td>\n",
       "      <td>0.0</td>\n",
       "      <td>0.0</td>\n",
       "      <td>163</td>\n",
       "      <td>67</td>\n",
       "      <td>Day Scholar</td>\n",
       "      <td>East</td>\n",
       "      <td>Male</td>\n",
       "      <td>English</td>\n",
       "      <td>Theory</td>\n",
       "      <td>UG</td>\n",
       "    </tr>\n",
       "    <tr>\n",
       "      <td>17</td>\n",
       "      <td>518192</td>\n",
       "      <td>1105776</td>\n",
       "      <td>KYI12</td>\n",
       "      <td>A</td>\n",
       "      <td>89.0</td>\n",
       "      <td>NaN</td>\n",
       "      <td>NaN</td>\n",
       "      <td>64.0</td>\n",
       "      <td>NaN</td>\n",
       "      <td>Integrated Bachelor of Technology - Master of ...</td>\n",
       "      <td>...</td>\n",
       "      <td>4.0</td>\n",
       "      <td>18.0</td>\n",
       "      <td>155</td>\n",
       "      <td>75</td>\n",
       "      <td>Hostler</td>\n",
       "      <td>North</td>\n",
       "      <td>Female</td>\n",
       "      <td>Regional</td>\n",
       "      <td>Theory</td>\n",
       "      <td>UG</td>\n",
       "    </tr>\n",
       "    <tr>\n",
       "      <td>95</td>\n",
       "      <td>318192</td>\n",
       "      <td>1119776</td>\n",
       "      <td>VJS87</td>\n",
       "      <td>B+</td>\n",
       "      <td>57.0</td>\n",
       "      <td>NaN</td>\n",
       "      <td>NaN</td>\n",
       "      <td>62.0</td>\n",
       "      <td>NaN</td>\n",
       "      <td>Bachelor of Technology in Computer Science and...</td>\n",
       "      <td>...</td>\n",
       "      <td>10.0</td>\n",
       "      <td>9.0</td>\n",
       "      <td>182</td>\n",
       "      <td>97</td>\n",
       "      <td>Day Scholar</td>\n",
       "      <td>South</td>\n",
       "      <td>Male</td>\n",
       "      <td>Hindi</td>\n",
       "      <td>Theory</td>\n",
       "      <td>UG</td>\n",
       "    </tr>\n",
       "    <tr>\n",
       "      <td>113</td>\n",
       "      <td>518192</td>\n",
       "      <td>1121776</td>\n",
       "      <td>UDK100</td>\n",
       "      <td>B+</td>\n",
       "      <td>80.0</td>\n",
       "      <td>NaN</td>\n",
       "      <td>NaN</td>\n",
       "      <td>64.0</td>\n",
       "      <td>NaN</td>\n",
       "      <td>Bachelor of Architecture</td>\n",
       "      <td>...</td>\n",
       "      <td>3.0</td>\n",
       "      <td>4.0</td>\n",
       "      <td>182</td>\n",
       "      <td>69</td>\n",
       "      <td>Day Scholar</td>\n",
       "      <td>North</td>\n",
       "      <td>Male</td>\n",
       "      <td>Regional</td>\n",
       "      <td>Theory</td>\n",
       "      <td>UG</td>\n",
       "    </tr>\n",
       "    <tr>\n",
       "      <td>...</td>\n",
       "      <td>...</td>\n",
       "      <td>...</td>\n",
       "      <td>...</td>\n",
       "      <td>...</td>\n",
       "      <td>...</td>\n",
       "      <td>...</td>\n",
       "      <td>...</td>\n",
       "      <td>...</td>\n",
       "      <td>...</td>\n",
       "      <td>...</td>\n",
       "      <td>...</td>\n",
       "      <td>...</td>\n",
       "      <td>...</td>\n",
       "      <td>...</td>\n",
       "      <td>...</td>\n",
       "      <td>...</td>\n",
       "      <td>...</td>\n",
       "      <td>...</td>\n",
       "      <td>...</td>\n",
       "      <td>...</td>\n",
       "      <td>...</td>\n",
       "    </tr>\n",
       "    <tr>\n",
       "      <td>65351</td>\n",
       "      <td>318192</td>\n",
       "      <td>15391776</td>\n",
       "      <td>TGE87</td>\n",
       "      <td>O</td>\n",
       "      <td>88.0</td>\n",
       "      <td>NaN</td>\n",
       "      <td>NaN</td>\n",
       "      <td>82.0</td>\n",
       "      <td>NaN</td>\n",
       "      <td>Bachelor of Technology in Computer Science and...</td>\n",
       "      <td>...</td>\n",
       "      <td>53.0</td>\n",
       "      <td>16.0</td>\n",
       "      <td>169</td>\n",
       "      <td>96</td>\n",
       "      <td>Hostler</td>\n",
       "      <td>East</td>\n",
       "      <td>Male</td>\n",
       "      <td>Regional</td>\n",
       "      <td>Theory</td>\n",
       "      <td>UG</td>\n",
       "    </tr>\n",
       "    <tr>\n",
       "      <td>65418</td>\n",
       "      <td>418192</td>\n",
       "      <td>15408776</td>\n",
       "      <td>OXX225</td>\n",
       "      <td>O</td>\n",
       "      <td>87.0</td>\n",
       "      <td>NaN</td>\n",
       "      <td>NaN</td>\n",
       "      <td>81.0</td>\n",
       "      <td>NaN</td>\n",
       "      <td>Bachelor of Science (Honours) (Agriculture)</td>\n",
       "      <td>...</td>\n",
       "      <td>1.0</td>\n",
       "      <td>0.0</td>\n",
       "      <td>173</td>\n",
       "      <td>86</td>\n",
       "      <td>Hostler</td>\n",
       "      <td>North</td>\n",
       "      <td>Male</td>\n",
       "      <td>Regional</td>\n",
       "      <td>Theory</td>\n",
       "      <td>UG</td>\n",
       "    </tr>\n",
       "    <tr>\n",
       "      <td>65419</td>\n",
       "      <td>418192</td>\n",
       "      <td>15408776</td>\n",
       "      <td>OXX226</td>\n",
       "      <td>A+</td>\n",
       "      <td>88.0</td>\n",
       "      <td>NaN</td>\n",
       "      <td>NaN</td>\n",
       "      <td>87.0</td>\n",
       "      <td>NaN</td>\n",
       "      <td>Bachelor of Science (Honours) (Agriculture)</td>\n",
       "      <td>...</td>\n",
       "      <td>7.0</td>\n",
       "      <td>38.0</td>\n",
       "      <td>173</td>\n",
       "      <td>86</td>\n",
       "      <td>Hostler</td>\n",
       "      <td>North</td>\n",
       "      <td>Male</td>\n",
       "      <td>Regional</td>\n",
       "      <td>Theory</td>\n",
       "      <td>UG</td>\n",
       "    </tr>\n",
       "    <tr>\n",
       "      <td>65459</td>\n",
       "      <td>318192</td>\n",
       "      <td>15416776</td>\n",
       "      <td>AUK538</td>\n",
       "      <td>B+</td>\n",
       "      <td>57.0</td>\n",
       "      <td>NaN</td>\n",
       "      <td>NaN</td>\n",
       "      <td>64.0</td>\n",
       "      <td>NaN</td>\n",
       "      <td>Bachelor of Technology (Civil Engineering)</td>\n",
       "      <td>...</td>\n",
       "      <td>0.0</td>\n",
       "      <td>0.0</td>\n",
       "      <td>150</td>\n",
       "      <td>73</td>\n",
       "      <td>Day Scholar</td>\n",
       "      <td>West</td>\n",
       "      <td>Male</td>\n",
       "      <td>English</td>\n",
       "      <td>Theory</td>\n",
       "      <td>UG</td>\n",
       "    </tr>\n",
       "    <tr>\n",
       "      <td>65467</td>\n",
       "      <td>318192</td>\n",
       "      <td>15417776</td>\n",
       "      <td>CFB87</td>\n",
       "      <td>O</td>\n",
       "      <td>90.0</td>\n",
       "      <td>NaN</td>\n",
       "      <td>NaN</td>\n",
       "      <td>75.0</td>\n",
       "      <td>NaN</td>\n",
       "      <td>Bachelor of Technology (Computer Science and E...</td>\n",
       "      <td>...</td>\n",
       "      <td>12.0</td>\n",
       "      <td>54.0</td>\n",
       "      <td>167</td>\n",
       "      <td>47</td>\n",
       "      <td>Day Scholar</td>\n",
       "      <td>East</td>\n",
       "      <td>Male</td>\n",
       "      <td>English</td>\n",
       "      <td>Theory</td>\n",
       "      <td>UG</td>\n",
       "    </tr>\n",
       "  </tbody>\n",
       "</table>\n",
       "<p>4480 rows × 22 columns</p>\n",
       "</div>"
      ],
      "text/plain": [
       "       Termid   Regd No  Course Grade  CA_100  MTT_50  ETT_100  ETP_100  \\\n",
       "12     518192   1103776    OLZ7    A+    87.0     NaN      NaN     69.0   \n",
       "13     418192   1104776   XPH10     F     0.0     NaN      NaN      0.0   \n",
       "17     518192   1105776   KYI12     A    89.0     NaN      NaN     64.0   \n",
       "95     318192   1119776   VJS87    B+    57.0     NaN      NaN     62.0   \n",
       "113    518192   1121776  UDK100    B+    80.0     NaN      NaN     64.0   \n",
       "...       ...       ...     ...   ...     ...     ...      ...      ...   \n",
       "65351  318192  15391776   TGE87     O    88.0     NaN      NaN     82.0   \n",
       "65418  418192  15408776  OXX225     O    87.0     NaN      NaN     81.0   \n",
       "65419  418192  15408776  OXX226    A+    88.0     NaN      NaN     87.0   \n",
       "65459  318192  15416776  AUK538    B+    57.0     NaN      NaN     64.0   \n",
       "65467  318192  15417776   CFB87     O    90.0     NaN      NaN     75.0   \n",
       "\n",
       "       Course_Att                                           MHRDName  ...  \\\n",
       "12            NaN  Master of Computer Applications (2 Year progra...  ...   \n",
       "13            NaN   Bachelor of Technology in Mechanical Engineering  ...   \n",
       "17            NaN  Integrated Bachelor of Technology - Master of ...  ...   \n",
       "95            NaN  Bachelor of Technology in Computer Science and...  ...   \n",
       "113           NaN                           Bachelor of Architecture  ...   \n",
       "...           ...                                                ...  ...   \n",
       "65351         NaN  Bachelor of Technology in Computer Science and...  ...   \n",
       "65418         NaN       Bachelor of Science (Honours) (Agriculture)   ...   \n",
       "65419         NaN       Bachelor of Science (Honours) (Agriculture)   ...   \n",
       "65459         NaN         Bachelor of Technology (Civil Engineering)  ...   \n",
       "65467         NaN  Bachelor of Technology (Computer Science and E...  ...   \n",
       "\n",
       "       CA_3  CA_4  Height  Weight  ScholarType  Direction  Gender    Medium  \\\n",
       "12     16.0   1.0     170      66      Hostler       West    Male  Regional   \n",
       "13      0.0   0.0     163      67  Day Scholar       East    Male   English   \n",
       "17      4.0  18.0     155      75      Hostler      North  Female  Regional   \n",
       "95     10.0   9.0     182      97  Day Scholar      South    Male     Hindi   \n",
       "113     3.0   4.0     182      69  Day Scholar      North    Male  Regional   \n",
       "...     ...   ...     ...     ...          ...        ...     ...       ...   \n",
       "65351  53.0  16.0     169      96      Hostler       East    Male  Regional   \n",
       "65418   1.0   0.0     173      86      Hostler      North    Male  Regional   \n",
       "65419   7.0  38.0     173      86      Hostler      North    Male  Regional   \n",
       "65459   0.0   0.0     150      73  Day Scholar       West    Male   English   \n",
       "65467  12.0  54.0     167      47  Day Scholar       East    Male   English   \n",
       "\n",
       "      CourseType ProgramType  \n",
       "12        Theory          PG  \n",
       "13        Theory          UG  \n",
       "17        Theory          UG  \n",
       "95        Theory          UG  \n",
       "113       Theory          UG  \n",
       "...          ...         ...  \n",
       "65351     Theory          UG  \n",
       "65418     Theory          UG  \n",
       "65419     Theory          UG  \n",
       "65459     Theory          UG  \n",
       "65467     Theory          UG  \n",
       "\n",
       "[4480 rows x 22 columns]"
      ]
     },
     "execution_count": 12,
     "metadata": {},
     "output_type": "execute_result"
    }
   ],
   "source": [
    "#In this we are checking the data which have more than or equal to 3 null values in a row and the course type is not practical\n",
    "h=data[data['CourseType']!='Practical']\n",
    "h=h[h.isnull().sum(axis=1)>=3]\n",
    "h"
   ]
  },
  {
   "cell_type": "code",
   "execution_count": 13,
   "metadata": {},
   "outputs": [
    {
     "data": {
      "text/html": [
       "<div>\n",
       "<style scoped>\n",
       "    .dataframe tbody tr th:only-of-type {\n",
       "        vertical-align: middle;\n",
       "    }\n",
       "\n",
       "    .dataframe tbody tr th {\n",
       "        vertical-align: top;\n",
       "    }\n",
       "\n",
       "    .dataframe thead th {\n",
       "        text-align: right;\n",
       "    }\n",
       "</style>\n",
       "<table border=\"1\" class=\"dataframe\">\n",
       "  <thead>\n",
       "    <tr style=\"text-align: right;\">\n",
       "      <th></th>\n",
       "      <th>Termid</th>\n",
       "      <th>Regd No</th>\n",
       "      <th>CA_100</th>\n",
       "      <th>MTT_50</th>\n",
       "      <th>ETT_100</th>\n",
       "      <th>ETP_100</th>\n",
       "      <th>Course_Att</th>\n",
       "      <th>CA_1</th>\n",
       "      <th>CA_2</th>\n",
       "      <th>CA_3</th>\n",
       "      <th>CA_4</th>\n",
       "      <th>Height</th>\n",
       "      <th>Weight</th>\n",
       "    </tr>\n",
       "  </thead>\n",
       "  <tbody>\n",
       "    <tr>\n",
       "      <td>count</td>\n",
       "      <td>65535.000000</td>\n",
       "      <td>6.553500e+04</td>\n",
       "      <td>62969.000000</td>\n",
       "      <td>38414.000000</td>\n",
       "      <td>39699.000000</td>\n",
       "      <td>29644.000000</td>\n",
       "      <td>59454.000000</td>\n",
       "      <td>62969.000000</td>\n",
       "      <td>62969.000000</td>\n",
       "      <td>62969.000000</td>\n",
       "      <td>62969.000000</td>\n",
       "      <td>65535.000000</td>\n",
       "      <td>65535.000000</td>\n",
       "    </tr>\n",
       "    <tr>\n",
       "      <td>mean</td>\n",
       "      <td>288099.682918</td>\n",
       "      <td>8.450856e+06</td>\n",
       "      <td>63.772317</td>\n",
       "      <td>26.110637</td>\n",
       "      <td>52.052470</td>\n",
       "      <td>67.181892</td>\n",
       "      <td>81.046692</td>\n",
       "      <td>31.961918</td>\n",
       "      <td>15.926504</td>\n",
       "      <td>7.937985</td>\n",
       "      <td>7.945910</td>\n",
       "      <td>167.077134</td>\n",
       "      <td>70.074922</td>\n",
       "    </tr>\n",
       "    <tr>\n",
       "      <td>std</td>\n",
       "      <td>84391.200813</td>\n",
       "      <td>4.155810e+06</td>\n",
       "      <td>23.809873</td>\n",
       "      <td>11.811316</td>\n",
       "      <td>22.972317</td>\n",
       "      <td>22.770638</td>\n",
       "      <td>17.960987</td>\n",
       "      <td>23.197636</td>\n",
       "      <td>16.421255</td>\n",
       "      <td>10.651955</td>\n",
       "      <td>10.654228</td>\n",
       "      <td>10.138942</td>\n",
       "      <td>17.785183</td>\n",
       "    </tr>\n",
       "    <tr>\n",
       "      <td>min</td>\n",
       "      <td>118192.000000</td>\n",
       "      <td>1.101776e+06</td>\n",
       "      <td>0.000000</td>\n",
       "      <td>0.000000</td>\n",
       "      <td>0.000000</td>\n",
       "      <td>0.000000</td>\n",
       "      <td>0.000000</td>\n",
       "      <td>0.000000</td>\n",
       "      <td>0.000000</td>\n",
       "      <td>0.000000</td>\n",
       "      <td>0.000000</td>\n",
       "      <td>150.000000</td>\n",
       "      <td>40.000000</td>\n",
       "    </tr>\n",
       "    <tr>\n",
       "      <td>25%</td>\n",
       "      <td>218192.000000</td>\n",
       "      <td>4.875776e+06</td>\n",
       "      <td>54.000000</td>\n",
       "      <td>19.000000</td>\n",
       "      <td>40.000000</td>\n",
       "      <td>61.000000</td>\n",
       "      <td>76.000000</td>\n",
       "      <td>12.000000</td>\n",
       "      <td>3.000000</td>\n",
       "      <td>1.000000</td>\n",
       "      <td>1.000000</td>\n",
       "      <td>158.000000</td>\n",
       "      <td>55.000000</td>\n",
       "    </tr>\n",
       "    <tr>\n",
       "      <td>50%</td>\n",
       "      <td>318192.000000</td>\n",
       "      <td>8.474776e+06</td>\n",
       "      <td>69.000000</td>\n",
       "      <td>28.000000</td>\n",
       "      <td>56.000000</td>\n",
       "      <td>73.000000</td>\n",
       "      <td>85.000000</td>\n",
       "      <td>29.000000</td>\n",
       "      <td>10.000000</td>\n",
       "      <td>4.000000</td>\n",
       "      <td>4.000000</td>\n",
       "      <td>167.000000</td>\n",
       "      <td>70.000000</td>\n",
       "    </tr>\n",
       "    <tr>\n",
       "      <td>75%</td>\n",
       "      <td>318192.000000</td>\n",
       "      <td>1.203578e+07</td>\n",
       "      <td>81.000000</td>\n",
       "      <td>35.000000</td>\n",
       "      <td>68.000000</td>\n",
       "      <td>82.000000</td>\n",
       "      <td>93.000000</td>\n",
       "      <td>49.000000</td>\n",
       "      <td>24.000000</td>\n",
       "      <td>11.000000</td>\n",
       "      <td>11.000000</td>\n",
       "      <td>176.000000</td>\n",
       "      <td>85.000000</td>\n",
       "    </tr>\n",
       "    <tr>\n",
       "      <td>max</td>\n",
       "      <td>718192.000000</td>\n",
       "      <td>1.543278e+07</td>\n",
       "      <td>100.000000</td>\n",
       "      <td>50.000000</td>\n",
       "      <td>100.000000</td>\n",
       "      <td>100.000000</td>\n",
       "      <td>100.000000</td>\n",
       "      <td>100.000000</td>\n",
       "      <td>94.000000</td>\n",
       "      <td>89.000000</td>\n",
       "      <td>87.000000</td>\n",
       "      <td>184.000000</td>\n",
       "      <td>100.000000</td>\n",
       "    </tr>\n",
       "  </tbody>\n",
       "</table>\n",
       "</div>"
      ],
      "text/plain": [
       "              Termid       Regd No        CA_100        MTT_50       ETT_100  \\\n",
       "count   65535.000000  6.553500e+04  62969.000000  38414.000000  39699.000000   \n",
       "mean   288099.682918  8.450856e+06     63.772317     26.110637     52.052470   \n",
       "std     84391.200813  4.155810e+06     23.809873     11.811316     22.972317   \n",
       "min    118192.000000  1.101776e+06      0.000000      0.000000      0.000000   \n",
       "25%    218192.000000  4.875776e+06     54.000000     19.000000     40.000000   \n",
       "50%    318192.000000  8.474776e+06     69.000000     28.000000     56.000000   \n",
       "75%    318192.000000  1.203578e+07     81.000000     35.000000     68.000000   \n",
       "max    718192.000000  1.543278e+07    100.000000     50.000000    100.000000   \n",
       "\n",
       "            ETP_100    Course_Att          CA_1          CA_2          CA_3  \\\n",
       "count  29644.000000  59454.000000  62969.000000  62969.000000  62969.000000   \n",
       "mean      67.181892     81.046692     31.961918     15.926504      7.937985   \n",
       "std       22.770638     17.960987     23.197636     16.421255     10.651955   \n",
       "min        0.000000      0.000000      0.000000      0.000000      0.000000   \n",
       "25%       61.000000     76.000000     12.000000      3.000000      1.000000   \n",
       "50%       73.000000     85.000000     29.000000     10.000000      4.000000   \n",
       "75%       82.000000     93.000000     49.000000     24.000000     11.000000   \n",
       "max      100.000000    100.000000    100.000000     94.000000     89.000000   \n",
       "\n",
       "               CA_4        Height        Weight  \n",
       "count  62969.000000  65535.000000  65535.000000  \n",
       "mean       7.945910    167.077134     70.074922  \n",
       "std       10.654228     10.138942     17.785183  \n",
       "min        0.000000    150.000000     40.000000  \n",
       "25%        1.000000    158.000000     55.000000  \n",
       "50%        4.000000    167.000000     70.000000  \n",
       "75%       11.000000    176.000000     85.000000  \n",
       "max       87.000000    184.000000    100.000000  "
      ]
     },
     "execution_count": 13,
     "metadata": {},
     "output_type": "execute_result"
    }
   ],
   "source": [
    "#data.describe() the function shows us the different values of the statistical functions applied to the data frame.\n",
    "data.describe()"
   ]
  },
  {
   "cell_type": "code",
   "execution_count": 14,
   "metadata": {},
   "outputs": [
    {
     "data": {
      "text/plain": [
       "array(['O', 'A+', 'B+', 'A', 'F', 'E', 'C', 'D', 'B', 'R', 'I', 'FAIL',\n",
       "       'ReApp', 'PASS', 'M', 'S'], dtype=object)"
      ]
     },
     "execution_count": 14,
     "metadata": {},
     "output_type": "execute_result"
    }
   ],
   "source": [
    "data['Grade'].unique()"
   ]
  },
  {
   "cell_type": "code",
   "execution_count": 15,
   "metadata": {},
   "outputs": [],
   "source": [
    "#In this cell I am a new columns which will contain either pass or fail\n",
    "abc=[]\n",
    "for i in range(0,data.shape[0]):\n",
    "    if(data.iloc[i,3])=='ReApp' or (data.iloc[i,3])=='FAIL' or (data.iloc[i,3])=='F' or (data.iloc[i,3])=='E':\n",
    "        abc.append(str('Fail'))\n",
    "    else:\n",
    "        abc.append(str('Passed'))"
   ]
  },
  {
   "cell_type": "code",
   "execution_count": 16,
   "metadata": {},
   "outputs": [
    {
     "data": {
      "text/plain": [
       "['Passed',\n",
       " 'Passed',\n",
       " 'Passed',\n",
       " 'Passed',\n",
       " 'Passed',\n",
       " 'Passed',\n",
       " 'Passed',\n",
       " 'Passed',\n",
       " 'Passed',\n",
       " 'Passed',\n",
       " 'Passed',\n",
       " 'Passed',\n",
       " 'Passed',\n",
       " 'Fail',\n",
       " 'Fail',\n",
       " 'Fail',\n",
       " 'Fail',\n",
       " 'Passed',\n",
       " 'Passed',\n",
       " 'Passed',\n",
       " 'Fail',\n",
       " 'Passed',\n",
       " 'Fail',\n",
       " 'Passed',\n",
       " 'Passed',\n",
       " 'Passed',\n",
       " 'Passed',\n",
       " 'Passed',\n",
       " 'Passed',\n",
       " 'Passed',\n",
       " 'Passed',\n",
       " 'Passed',\n",
       " 'Passed',\n",
       " 'Passed',\n",
       " 'Passed',\n",
       " 'Passed',\n",
       " 'Passed',\n",
       " 'Passed',\n",
       " 'Passed',\n",
       " 'Passed',\n",
       " 'Passed',\n",
       " 'Passed',\n",
       " 'Passed',\n",
       " 'Passed',\n",
       " 'Passed',\n",
       " 'Passed',\n",
       " 'Passed',\n",
       " 'Passed',\n",
       " 'Passed',\n",
       " 'Passed',\n",
       " 'Passed',\n",
       " 'Passed',\n",
       " 'Passed',\n",
       " 'Passed',\n",
       " 'Passed',\n",
       " 'Passed',\n",
       " 'Passed',\n",
       " 'Passed',\n",
       " 'Passed',\n",
       " 'Fail',\n",
       " 'Passed',\n",
       " 'Passed',\n",
       " 'Passed',\n",
       " 'Passed',\n",
       " 'Passed',\n",
       " 'Passed',\n",
       " 'Passed',\n",
       " 'Passed',\n",
       " 'Passed',\n",
       " 'Passed',\n",
       " 'Passed',\n",
       " 'Passed',\n",
       " 'Passed',\n",
       " 'Passed',\n",
       " 'Passed',\n",
       " 'Passed',\n",
       " 'Passed',\n",
       " 'Passed',\n",
       " 'Passed',\n",
       " 'Passed',\n",
       " 'Passed',\n",
       " 'Passed',\n",
       " 'Passed',\n",
       " 'Passed',\n",
       " 'Passed',\n",
       " 'Passed',\n",
       " 'Passed',\n",
       " 'Passed',\n",
       " 'Passed',\n",
       " 'Passed',\n",
       " 'Passed',\n",
       " 'Passed',\n",
       " 'Passed',\n",
       " 'Passed',\n",
       " 'Passed',\n",
       " 'Passed',\n",
       " 'Passed',\n",
       " 'Passed',\n",
       " 'Passed',\n",
       " 'Passed',\n",
       " 'Passed',\n",
       " 'Passed',\n",
       " 'Passed',\n",
       " 'Passed',\n",
       " 'Passed',\n",
       " 'Passed',\n",
       " 'Passed',\n",
       " 'Passed',\n",
       " 'Passed',\n",
       " 'Passed',\n",
       " 'Passed',\n",
       " 'Passed',\n",
       " 'Passed',\n",
       " 'Passed',\n",
       " 'Passed',\n",
       " 'Fail',\n",
       " 'Fail',\n",
       " 'Fail',\n",
       " 'Passed',\n",
       " 'Passed',\n",
       " 'Passed',\n",
       " 'Passed',\n",
       " 'Passed',\n",
       " 'Passed',\n",
       " 'Passed',\n",
       " 'Passed',\n",
       " 'Passed',\n",
       " 'Passed',\n",
       " 'Passed',\n",
       " 'Passed',\n",
       " 'Passed',\n",
       " 'Passed',\n",
       " 'Passed',\n",
       " 'Passed',\n",
       " 'Passed',\n",
       " 'Passed',\n",
       " 'Passed',\n",
       " 'Passed',\n",
       " 'Passed',\n",
       " 'Passed',\n",
       " 'Passed',\n",
       " 'Passed',\n",
       " 'Passed',\n",
       " 'Passed',\n",
       " 'Passed',\n",
       " 'Passed',\n",
       " 'Passed',\n",
       " 'Passed',\n",
       " 'Passed',\n",
       " 'Passed',\n",
       " 'Passed',\n",
       " 'Passed',\n",
       " 'Passed',\n",
       " 'Passed',\n",
       " 'Passed',\n",
       " 'Passed',\n",
       " 'Passed',\n",
       " 'Passed',\n",
       " 'Passed',\n",
       " 'Passed',\n",
       " 'Passed',\n",
       " 'Passed',\n",
       " 'Passed',\n",
       " 'Passed',\n",
       " 'Passed',\n",
       " 'Passed',\n",
       " 'Passed',\n",
       " 'Passed',\n",
       " 'Passed',\n",
       " 'Passed',\n",
       " 'Fail',\n",
       " 'Passed',\n",
       " 'Passed',\n",
       " 'Fail',\n",
       " 'Fail',\n",
       " 'Fail',\n",
       " 'Fail',\n",
       " 'Fail',\n",
       " 'Fail',\n",
       " 'Fail',\n",
       " 'Fail',\n",
       " 'Fail',\n",
       " 'Fail',\n",
       " 'Fail',\n",
       " 'Fail',\n",
       " 'Fail',\n",
       " 'Fail',\n",
       " 'Fail',\n",
       " 'Fail',\n",
       " 'Fail',\n",
       " 'Fail',\n",
       " 'Fail',\n",
       " 'Fail',\n",
       " 'Fail',\n",
       " 'Fail',\n",
       " 'Fail',\n",
       " 'Fail',\n",
       " 'Fail',\n",
       " 'Fail',\n",
       " 'Fail',\n",
       " 'Fail',\n",
       " 'Fail',\n",
       " 'Fail',\n",
       " 'Fail',\n",
       " 'Fail',\n",
       " 'Fail',\n",
       " 'Fail',\n",
       " 'Passed',\n",
       " 'Passed',\n",
       " 'Passed',\n",
       " 'Passed',\n",
       " 'Passed',\n",
       " 'Passed',\n",
       " 'Passed',\n",
       " 'Passed',\n",
       " 'Passed',\n",
       " 'Passed',\n",
       " 'Passed',\n",
       " 'Passed',\n",
       " 'Passed',\n",
       " 'Passed',\n",
       " 'Passed',\n",
       " 'Passed',\n",
       " 'Passed',\n",
       " 'Passed',\n",
       " 'Passed',\n",
       " 'Passed',\n",
       " 'Passed',\n",
       " 'Passed',\n",
       " 'Passed',\n",
       " 'Passed',\n",
       " 'Passed',\n",
       " 'Passed',\n",
       " 'Passed',\n",
       " 'Passed',\n",
       " 'Passed',\n",
       " 'Passed',\n",
       " 'Passed',\n",
       " 'Passed',\n",
       " 'Passed',\n",
       " 'Passed',\n",
       " 'Fail',\n",
       " 'Fail',\n",
       " 'Fail',\n",
       " 'Fail',\n",
       " 'Fail',\n",
       " 'Fail',\n",
       " 'Passed',\n",
       " 'Passed',\n",
       " 'Passed',\n",
       " 'Fail',\n",
       " 'Passed',\n",
       " 'Passed',\n",
       " 'Fail',\n",
       " 'Passed',\n",
       " 'Passed',\n",
       " 'Passed',\n",
       " 'Passed',\n",
       " 'Passed',\n",
       " 'Passed',\n",
       " 'Passed',\n",
       " 'Passed',\n",
       " 'Fail',\n",
       " 'Fail',\n",
       " 'Fail',\n",
       " 'Passed',\n",
       " 'Passed',\n",
       " 'Passed',\n",
       " 'Passed',\n",
       " 'Passed',\n",
       " 'Passed',\n",
       " 'Passed',\n",
       " 'Passed',\n",
       " 'Fail',\n",
       " 'Passed',\n",
       " 'Passed',\n",
       " 'Passed',\n",
       " 'Passed',\n",
       " 'Passed',\n",
       " 'Passed',\n",
       " 'Passed',\n",
       " 'Passed',\n",
       " 'Passed',\n",
       " 'Passed',\n",
       " 'Passed',\n",
       " 'Passed',\n",
       " 'Passed',\n",
       " 'Passed',\n",
       " 'Passed',\n",
       " 'Passed',\n",
       " 'Passed',\n",
       " 'Passed',\n",
       " 'Passed',\n",
       " 'Passed',\n",
       " 'Passed',\n",
       " 'Passed',\n",
       " 'Passed',\n",
       " 'Passed',\n",
       " 'Fail',\n",
       " 'Passed',\n",
       " 'Passed',\n",
       " 'Passed',\n",
       " 'Passed',\n",
       " 'Passed',\n",
       " 'Fail',\n",
       " 'Passed',\n",
       " 'Passed',\n",
       " 'Passed',\n",
       " 'Passed',\n",
       " 'Passed',\n",
       " 'Passed',\n",
       " 'Passed',\n",
       " 'Passed',\n",
       " 'Passed',\n",
       " 'Passed',\n",
       " 'Passed',\n",
       " 'Passed',\n",
       " 'Passed',\n",
       " 'Passed',\n",
       " 'Passed',\n",
       " 'Passed',\n",
       " 'Passed',\n",
       " 'Passed',\n",
       " 'Passed',\n",
       " 'Passed',\n",
       " 'Passed',\n",
       " 'Passed',\n",
       " 'Passed',\n",
       " 'Passed',\n",
       " 'Passed',\n",
       " 'Passed',\n",
       " 'Passed',\n",
       " 'Passed',\n",
       " 'Passed',\n",
       " 'Passed',\n",
       " 'Passed',\n",
       " 'Passed',\n",
       " 'Passed',\n",
       " 'Passed',\n",
       " 'Passed',\n",
       " 'Passed',\n",
       " 'Passed',\n",
       " 'Passed',\n",
       " 'Passed',\n",
       " 'Passed',\n",
       " 'Passed',\n",
       " 'Passed',\n",
       " 'Passed',\n",
       " 'Passed',\n",
       " 'Passed',\n",
       " 'Passed',\n",
       " 'Passed',\n",
       " 'Passed',\n",
       " 'Passed',\n",
       " 'Passed',\n",
       " 'Passed',\n",
       " 'Passed',\n",
       " 'Passed',\n",
       " 'Passed',\n",
       " 'Passed',\n",
       " 'Passed',\n",
       " 'Passed',\n",
       " 'Passed',\n",
       " 'Passed',\n",
       " 'Passed',\n",
       " 'Passed',\n",
       " 'Passed',\n",
       " 'Passed',\n",
       " 'Passed',\n",
       " 'Passed',\n",
       " 'Passed',\n",
       " 'Passed',\n",
       " 'Passed',\n",
       " 'Passed',\n",
       " 'Passed',\n",
       " 'Passed',\n",
       " 'Passed',\n",
       " 'Passed',\n",
       " 'Passed',\n",
       " 'Passed',\n",
       " 'Passed',\n",
       " 'Passed',\n",
       " 'Passed',\n",
       " 'Passed',\n",
       " 'Passed',\n",
       " 'Passed',\n",
       " 'Passed',\n",
       " 'Passed',\n",
       " 'Passed',\n",
       " 'Passed',\n",
       " 'Passed',\n",
       " 'Passed',\n",
       " 'Passed',\n",
       " 'Passed',\n",
       " 'Passed',\n",
       " 'Passed',\n",
       " 'Passed',\n",
       " 'Passed',\n",
       " 'Passed',\n",
       " 'Passed',\n",
       " 'Passed',\n",
       " 'Passed',\n",
       " 'Passed',\n",
       " 'Passed',\n",
       " 'Passed',\n",
       " 'Passed',\n",
       " 'Passed',\n",
       " 'Passed',\n",
       " 'Passed',\n",
       " 'Passed',\n",
       " 'Passed',\n",
       " 'Passed',\n",
       " 'Passed',\n",
       " 'Fail',\n",
       " 'Passed',\n",
       " 'Passed',\n",
       " 'Passed',\n",
       " 'Passed',\n",
       " 'Passed',\n",
       " 'Passed',\n",
       " 'Passed',\n",
       " 'Passed',\n",
       " 'Passed',\n",
       " 'Passed',\n",
       " 'Passed',\n",
       " 'Passed',\n",
       " 'Passed',\n",
       " 'Fail',\n",
       " 'Passed',\n",
       " 'Fail',\n",
       " 'Passed',\n",
       " 'Passed',\n",
       " 'Passed',\n",
       " 'Passed',\n",
       " 'Fail',\n",
       " 'Passed',\n",
       " 'Passed',\n",
       " 'Fail',\n",
       " 'Passed',\n",
       " 'Passed',\n",
       " 'Passed',\n",
       " 'Passed',\n",
       " 'Passed',\n",
       " 'Passed',\n",
       " 'Passed',\n",
       " 'Passed',\n",
       " 'Passed',\n",
       " 'Passed',\n",
       " 'Passed',\n",
       " 'Passed',\n",
       " 'Passed',\n",
       " 'Passed',\n",
       " 'Passed',\n",
       " 'Passed',\n",
       " 'Passed',\n",
       " 'Passed',\n",
       " 'Passed',\n",
       " 'Passed',\n",
       " 'Passed',\n",
       " 'Passed',\n",
       " 'Passed',\n",
       " 'Passed',\n",
       " 'Passed',\n",
       " 'Passed',\n",
       " 'Passed',\n",
       " 'Passed',\n",
       " 'Passed',\n",
       " 'Passed',\n",
       " 'Passed',\n",
       " 'Passed',\n",
       " 'Passed',\n",
       " 'Passed',\n",
       " 'Passed',\n",
       " 'Passed',\n",
       " 'Passed',\n",
       " 'Passed',\n",
       " 'Passed',\n",
       " 'Passed',\n",
       " 'Passed',\n",
       " 'Passed',\n",
       " 'Passed',\n",
       " 'Passed',\n",
       " 'Passed',\n",
       " 'Passed',\n",
       " 'Passed',\n",
       " 'Fail',\n",
       " 'Fail',\n",
       " 'Passed',\n",
       " 'Fail',\n",
       " 'Fail',\n",
       " 'Passed',\n",
       " 'Passed',\n",
       " 'Passed',\n",
       " 'Passed',\n",
       " 'Fail',\n",
       " 'Passed',\n",
       " 'Passed',\n",
       " 'Passed',\n",
       " 'Passed',\n",
       " 'Passed',\n",
       " 'Passed',\n",
       " 'Passed',\n",
       " 'Passed',\n",
       " 'Passed',\n",
       " 'Passed',\n",
       " 'Fail',\n",
       " 'Fail',\n",
       " 'Fail',\n",
       " 'Fail',\n",
       " 'Fail',\n",
       " 'Fail',\n",
       " 'Fail',\n",
       " 'Fail',\n",
       " 'Fail',\n",
       " 'Passed',\n",
       " 'Passed',\n",
       " 'Fail',\n",
       " 'Fail',\n",
       " 'Fail',\n",
       " 'Fail',\n",
       " 'Passed',\n",
       " 'Passed',\n",
       " 'Passed',\n",
       " 'Passed',\n",
       " 'Passed',\n",
       " 'Passed',\n",
       " 'Passed',\n",
       " 'Passed',\n",
       " 'Passed',\n",
       " 'Passed',\n",
       " 'Fail',\n",
       " 'Passed',\n",
       " 'Passed',\n",
       " 'Passed',\n",
       " 'Passed',\n",
       " 'Passed',\n",
       " 'Passed',\n",
       " 'Passed',\n",
       " 'Passed',\n",
       " 'Passed',\n",
       " 'Passed',\n",
       " 'Passed',\n",
       " 'Passed',\n",
       " 'Passed',\n",
       " 'Passed',\n",
       " 'Passed',\n",
       " 'Passed',\n",
       " 'Passed',\n",
       " 'Passed',\n",
       " 'Passed',\n",
       " 'Passed',\n",
       " 'Passed',\n",
       " 'Passed',\n",
       " 'Fail',\n",
       " 'Passed',\n",
       " 'Passed',\n",
       " 'Passed',\n",
       " 'Passed',\n",
       " 'Passed',\n",
       " 'Passed',\n",
       " 'Passed',\n",
       " 'Passed',\n",
       " 'Passed',\n",
       " 'Passed',\n",
       " 'Passed',\n",
       " 'Passed',\n",
       " 'Passed',\n",
       " 'Passed',\n",
       " 'Passed',\n",
       " 'Passed',\n",
       " 'Passed',\n",
       " 'Passed',\n",
       " 'Passed',\n",
       " 'Passed',\n",
       " 'Passed',\n",
       " 'Passed',\n",
       " 'Passed',\n",
       " 'Passed',\n",
       " 'Passed',\n",
       " 'Passed',\n",
       " 'Passed',\n",
       " 'Passed',\n",
       " 'Passed',\n",
       " 'Passed',\n",
       " 'Passed',\n",
       " 'Passed',\n",
       " 'Fail',\n",
       " 'Fail',\n",
       " 'Fail',\n",
       " 'Passed',\n",
       " 'Passed',\n",
       " 'Passed',\n",
       " 'Passed',\n",
       " 'Passed',\n",
       " 'Passed',\n",
       " 'Passed',\n",
       " 'Passed',\n",
       " 'Passed',\n",
       " 'Passed',\n",
       " 'Passed',\n",
       " 'Passed',\n",
       " 'Passed',\n",
       " 'Passed',\n",
       " 'Passed',\n",
       " 'Passed',\n",
       " 'Passed',\n",
       " 'Passed',\n",
       " 'Passed',\n",
       " 'Passed',\n",
       " 'Passed',\n",
       " 'Passed',\n",
       " 'Passed',\n",
       " 'Passed',\n",
       " 'Passed',\n",
       " 'Passed',\n",
       " 'Passed',\n",
       " 'Fail',\n",
       " 'Passed',\n",
       " 'Passed',\n",
       " 'Fail',\n",
       " 'Passed',\n",
       " 'Passed',\n",
       " 'Passed',\n",
       " 'Passed',\n",
       " 'Passed',\n",
       " 'Passed',\n",
       " 'Passed',\n",
       " 'Passed',\n",
       " 'Passed',\n",
       " 'Passed',\n",
       " 'Passed',\n",
       " 'Passed',\n",
       " 'Passed',\n",
       " 'Passed',\n",
       " 'Passed',\n",
       " 'Passed',\n",
       " 'Passed',\n",
       " 'Passed',\n",
       " 'Passed',\n",
       " 'Passed',\n",
       " 'Passed',\n",
       " 'Passed',\n",
       " 'Passed',\n",
       " 'Passed',\n",
       " 'Passed',\n",
       " 'Passed',\n",
       " 'Passed',\n",
       " 'Passed',\n",
       " 'Passed',\n",
       " 'Passed',\n",
       " 'Passed',\n",
       " 'Passed',\n",
       " 'Passed',\n",
       " 'Passed',\n",
       " 'Passed',\n",
       " 'Fail',\n",
       " 'Passed',\n",
       " 'Passed',\n",
       " 'Passed',\n",
       " 'Passed',\n",
       " 'Passed',\n",
       " 'Passed',\n",
       " 'Fail',\n",
       " 'Fail',\n",
       " 'Passed',\n",
       " 'Passed',\n",
       " 'Passed',\n",
       " 'Passed',\n",
       " 'Passed',\n",
       " 'Passed',\n",
       " 'Passed',\n",
       " 'Passed',\n",
       " 'Passed',\n",
       " 'Passed',\n",
       " 'Passed',\n",
       " 'Passed',\n",
       " 'Passed',\n",
       " 'Passed',\n",
       " 'Passed',\n",
       " 'Passed',\n",
       " 'Passed',\n",
       " 'Passed',\n",
       " 'Passed',\n",
       " 'Passed',\n",
       " 'Passed',\n",
       " 'Passed',\n",
       " 'Passed',\n",
       " 'Passed',\n",
       " 'Passed',\n",
       " 'Passed',\n",
       " 'Passed',\n",
       " 'Passed',\n",
       " 'Passed',\n",
       " 'Passed',\n",
       " 'Passed',\n",
       " 'Passed',\n",
       " 'Passed',\n",
       " 'Passed',\n",
       " 'Passed',\n",
       " 'Fail',\n",
       " 'Passed',\n",
       " 'Fail',\n",
       " 'Passed',\n",
       " 'Passed',\n",
       " 'Passed',\n",
       " 'Passed',\n",
       " 'Passed',\n",
       " 'Passed',\n",
       " 'Passed',\n",
       " 'Passed',\n",
       " 'Passed',\n",
       " 'Passed',\n",
       " 'Passed',\n",
       " 'Passed',\n",
       " 'Passed',\n",
       " 'Passed',\n",
       " 'Passed',\n",
       " 'Passed',\n",
       " 'Passed',\n",
       " 'Passed',\n",
       " 'Passed',\n",
       " 'Passed',\n",
       " 'Passed',\n",
       " 'Passed',\n",
       " 'Passed',\n",
       " 'Passed',\n",
       " 'Fail',\n",
       " 'Passed',\n",
       " 'Passed',\n",
       " 'Passed',\n",
       " 'Fail',\n",
       " 'Passed',\n",
       " 'Passed',\n",
       " 'Passed',\n",
       " 'Passed',\n",
       " 'Passed',\n",
       " 'Passed',\n",
       " 'Passed',\n",
       " 'Passed',\n",
       " 'Passed',\n",
       " 'Passed',\n",
       " 'Passed',\n",
       " 'Passed',\n",
       " 'Passed',\n",
       " 'Passed',\n",
       " 'Fail',\n",
       " 'Passed',\n",
       " 'Passed',\n",
       " 'Passed',\n",
       " 'Passed',\n",
       " 'Passed',\n",
       " 'Passed',\n",
       " 'Passed',\n",
       " 'Passed',\n",
       " 'Fail',\n",
       " 'Passed',\n",
       " 'Passed',\n",
       " 'Passed',\n",
       " 'Passed',\n",
       " 'Passed',\n",
       " 'Passed',\n",
       " 'Passed',\n",
       " 'Passed',\n",
       " 'Passed',\n",
       " 'Passed',\n",
       " 'Passed',\n",
       " 'Passed',\n",
       " 'Passed',\n",
       " 'Passed',\n",
       " 'Passed',\n",
       " 'Passed',\n",
       " 'Passed',\n",
       " 'Passed',\n",
       " 'Passed',\n",
       " 'Passed',\n",
       " 'Passed',\n",
       " 'Passed',\n",
       " 'Passed',\n",
       " 'Passed',\n",
       " 'Passed',\n",
       " 'Passed',\n",
       " 'Passed',\n",
       " 'Passed',\n",
       " 'Passed',\n",
       " 'Passed',\n",
       " 'Passed',\n",
       " 'Passed',\n",
       " 'Passed',\n",
       " 'Passed',\n",
       " 'Passed',\n",
       " 'Fail',\n",
       " 'Fail',\n",
       " 'Fail',\n",
       " 'Passed',\n",
       " 'Fail',\n",
       " 'Fail',\n",
       " 'Passed',\n",
       " 'Passed',\n",
       " 'Passed',\n",
       " 'Passed',\n",
       " 'Passed',\n",
       " 'Passed',\n",
       " 'Passed',\n",
       " 'Passed',\n",
       " 'Fail',\n",
       " 'Fail',\n",
       " 'Passed',\n",
       " 'Passed',\n",
       " 'Fail',\n",
       " 'Fail',\n",
       " 'Passed',\n",
       " 'Passed',\n",
       " 'Passed',\n",
       " 'Passed',\n",
       " 'Passed',\n",
       " 'Passed',\n",
       " 'Passed',\n",
       " 'Passed',\n",
       " 'Passed',\n",
       " 'Passed',\n",
       " 'Passed',\n",
       " 'Passed',\n",
       " 'Passed',\n",
       " 'Passed',\n",
       " 'Passed',\n",
       " 'Passed',\n",
       " 'Passed',\n",
       " 'Passed',\n",
       " 'Passed',\n",
       " 'Passed',\n",
       " 'Passed',\n",
       " 'Passed',\n",
       " 'Passed',\n",
       " 'Passed',\n",
       " 'Passed',\n",
       " 'Passed',\n",
       " 'Passed',\n",
       " 'Passed',\n",
       " 'Passed',\n",
       " 'Passed',\n",
       " 'Passed',\n",
       " 'Passed',\n",
       " 'Passed',\n",
       " 'Passed',\n",
       " 'Passed',\n",
       " 'Passed',\n",
       " 'Passed',\n",
       " 'Passed',\n",
       " 'Passed',\n",
       " 'Passed',\n",
       " 'Passed',\n",
       " 'Passed',\n",
       " 'Passed',\n",
       " 'Passed',\n",
       " 'Passed',\n",
       " 'Passed',\n",
       " 'Passed',\n",
       " 'Fail',\n",
       " 'Passed',\n",
       " 'Passed',\n",
       " 'Passed',\n",
       " 'Passed',\n",
       " 'Passed',\n",
       " 'Passed',\n",
       " 'Passed',\n",
       " 'Passed',\n",
       " 'Passed',\n",
       " 'Passed',\n",
       " 'Passed',\n",
       " 'Passed',\n",
       " 'Passed',\n",
       " 'Passed',\n",
       " 'Passed',\n",
       " 'Passed',\n",
       " 'Passed',\n",
       " 'Passed',\n",
       " 'Passed',\n",
       " 'Passed',\n",
       " 'Passed',\n",
       " 'Fail',\n",
       " 'Fail',\n",
       " 'Fail',\n",
       " 'Passed',\n",
       " 'Passed',\n",
       " 'Passed',\n",
       " 'Passed',\n",
       " 'Passed',\n",
       " 'Passed',\n",
       " 'Passed',\n",
       " 'Fail',\n",
       " 'Passed',\n",
       " 'Passed',\n",
       " 'Passed',\n",
       " 'Passed',\n",
       " 'Passed',\n",
       " 'Passed',\n",
       " 'Passed',\n",
       " 'Passed',\n",
       " 'Passed',\n",
       " 'Passed',\n",
       " 'Passed',\n",
       " 'Passed',\n",
       " 'Passed',\n",
       " 'Passed',\n",
       " 'Passed',\n",
       " 'Passed',\n",
       " 'Passed',\n",
       " 'Passed',\n",
       " 'Passed',\n",
       " 'Passed',\n",
       " 'Passed',\n",
       " 'Passed',\n",
       " 'Passed',\n",
       " 'Passed',\n",
       " 'Passed',\n",
       " 'Passed',\n",
       " 'Passed',\n",
       " 'Fail',\n",
       " 'Passed',\n",
       " 'Passed',\n",
       " 'Passed',\n",
       " 'Passed',\n",
       " 'Passed',\n",
       " 'Passed',\n",
       " 'Passed',\n",
       " 'Passed',\n",
       " 'Passed',\n",
       " 'Passed',\n",
       " 'Passed',\n",
       " 'Passed',\n",
       " 'Passed',\n",
       " 'Passed',\n",
       " 'Passed',\n",
       " 'Fail',\n",
       " 'Passed',\n",
       " 'Passed',\n",
       " 'Passed',\n",
       " 'Fail',\n",
       " 'Fail',\n",
       " 'Passed',\n",
       " 'Passed',\n",
       " 'Passed',\n",
       " 'Passed',\n",
       " 'Passed',\n",
       " 'Passed',\n",
       " 'Passed',\n",
       " 'Fail',\n",
       " 'Fail',\n",
       " 'Fail',\n",
       " 'Fail',\n",
       " 'Fail',\n",
       " 'Passed',\n",
       " 'Fail',\n",
       " 'Fail',\n",
       " 'Passed',\n",
       " 'Passed',\n",
       " 'Passed',\n",
       " 'Passed',\n",
       " 'Passed',\n",
       " 'Passed',\n",
       " 'Passed',\n",
       " 'Passed',\n",
       " 'Passed',\n",
       " 'Passed',\n",
       " 'Passed',\n",
       " 'Passed',\n",
       " 'Fail',\n",
       " 'Passed',\n",
       " 'Passed',\n",
       " 'Passed',\n",
       " 'Fail',\n",
       " 'Passed',\n",
       " 'Passed',\n",
       " 'Passed',\n",
       " 'Passed',\n",
       " 'Fail',\n",
       " 'Fail',\n",
       " 'Fail',\n",
       " 'Fail',\n",
       " 'Fail',\n",
       " 'Fail',\n",
       " 'Fail',\n",
       " 'Fail',\n",
       " 'Fail',\n",
       " 'Fail',\n",
       " 'Fail',\n",
       " 'Passed',\n",
       " 'Passed',\n",
       " 'Passed',\n",
       " 'Passed',\n",
       " 'Passed',\n",
       " 'Passed',\n",
       " 'Passed',\n",
       " 'Passed',\n",
       " 'Passed',\n",
       " 'Passed',\n",
       " 'Passed',\n",
       " 'Passed',\n",
       " 'Passed',\n",
       " 'Passed',\n",
       " ...]"
      ]
     },
     "execution_count": 16,
     "metadata": {},
     "output_type": "execute_result"
    }
   ],
   "source": [
    "abc"
   ]
  },
  {
   "cell_type": "code",
   "execution_count": 17,
   "metadata": {},
   "outputs": [
    {
     "data": {
      "text/plain": [
       "A        14184\n",
       "B+       12924\n",
       "A+       10946\n",
       "B         7163\n",
       "C         5710\n",
       "O         4701\n",
       "E         4378\n",
       "F         3338\n",
       "D         1674\n",
       "M          276\n",
       "I          101\n",
       "PASS        64\n",
       "R           52\n",
       "ReApp       15\n",
       "FAIL         6\n",
       "S            3\n",
       "Name: Grade, dtype: int64"
      ]
     },
     "execution_count": 17,
     "metadata": {},
     "output_type": "execute_result"
    }
   ],
   "source": [
    "data['Grade'].value_counts()"
   ]
  },
  {
   "cell_type": "code",
   "execution_count": 18,
   "metadata": {},
   "outputs": [
    {
     "data": {
      "text/plain": [
       "array([1, 1, 1, ..., 1, 1, 1], dtype=int64)"
      ]
     },
     "execution_count": 18,
     "metadata": {},
     "output_type": "execute_result"
    }
   ],
   "source": [
    "from sklearn.preprocessing import LabelEncoder #We are Importing the labelencoder from the sklearn.preprocessing \n",
    "label_encoder=LabelEncoder()                   #We are just creating a variable for the function\n",
    "label_encoder.fit(abc)                         #we are fitting the label encoder on our result list\n",
    "abc=label_encoder.transform(abc)               #we are tranforming the list and storing it \n",
    "abc"
   ]
  },
  {
   "cell_type": "code",
   "execution_count": 19,
   "metadata": {},
   "outputs": [],
   "source": [
    "df1=pd.DataFrame(abc,columns=['Result'])#This line Converts the abc list into a DataFrame"
   ]
  },
  {
   "cell_type": "code",
   "execution_count": 20,
   "metadata": {},
   "outputs": [
    {
     "data": {
      "text/plain": [
       "1    57798\n",
       "0     7737\n",
       "Name: Result, dtype: int64"
      ]
     },
     "execution_count": 20,
     "metadata": {},
     "output_type": "execute_result"
    }
   ],
   "source": [
    "df1['Result'].value_counts()"
   ]
  },
  {
   "cell_type": "code",
   "execution_count": 21,
   "metadata": {},
   "outputs": [
    {
     "data": {
      "text/plain": [
       "0"
      ]
     },
     "execution_count": 21,
     "metadata": {},
     "output_type": "execute_result"
    }
   ],
   "source": [
    "df1['Result'].isnull().sum()"
   ]
  },
  {
   "cell_type": "code",
   "execution_count": 22,
   "metadata": {},
   "outputs": [
    {
     "data": {
      "text/plain": [
       "(65535, 22)"
      ]
     },
     "execution_count": 22,
     "metadata": {},
     "output_type": "execute_result"
    }
   ],
   "source": [
    "data.shape"
   ]
  },
  {
   "cell_type": "code",
   "execution_count": 23,
   "metadata": {},
   "outputs": [
    {
     "data": {
      "text/plain": [
       "(65535, 1)"
      ]
     },
     "execution_count": 23,
     "metadata": {},
     "output_type": "execute_result"
    }
   ],
   "source": [
    "df1.shape"
   ]
  },
  {
   "cell_type": "code",
   "execution_count": 24,
   "metadata": {},
   "outputs": [
    {
     "data": {
      "text/plain": [
       "(65535, 23)"
      ]
     },
     "execution_count": 24,
     "metadata": {},
     "output_type": "execute_result"
    }
   ],
   "source": [
    "df=pd.concat([data,df1],axis=1)  #In this line, we concting two DataFrame i.e the data and justly created result DataFrame\n",
    "df.shape"
   ]
  },
  {
   "cell_type": "code",
   "execution_count": 25,
   "metadata": {},
   "outputs": [],
   "source": [
    "validation=df[df['MHRDName']=='Dual Degree Bachelor of Technology - Master of Technology (Mechanical Engineering)']"
   ]
  },
  {
   "cell_type": "code",
   "execution_count": 26,
   "metadata": {},
   "outputs": [
    {
     "data": {
      "text/plain": [
       "(8, 23)"
      ]
     },
     "execution_count": 26,
     "metadata": {},
     "output_type": "execute_result"
    }
   ],
   "source": [
    "validation.shape"
   ]
  },
  {
   "cell_type": "code",
   "execution_count": 27,
   "metadata": {},
   "outputs": [
    {
     "data": {
      "text/html": [
       "<div>\n",
       "<style scoped>\n",
       "    .dataframe tbody tr th:only-of-type {\n",
       "        vertical-align: middle;\n",
       "    }\n",
       "\n",
       "    .dataframe tbody tr th {\n",
       "        vertical-align: top;\n",
       "    }\n",
       "\n",
       "    .dataframe thead th {\n",
       "        text-align: right;\n",
       "    }\n",
       "</style>\n",
       "<table border=\"1\" class=\"dataframe\">\n",
       "  <thead>\n",
       "    <tr style=\"text-align: right;\">\n",
       "      <th></th>\n",
       "      <th>Termid</th>\n",
       "      <th>Regd No</th>\n",
       "      <th>Course</th>\n",
       "      <th>Grade</th>\n",
       "      <th>CA_100</th>\n",
       "      <th>MTT_50</th>\n",
       "      <th>ETT_100</th>\n",
       "      <th>ETP_100</th>\n",
       "      <th>Course_Att</th>\n",
       "      <th>MHRDName</th>\n",
       "      <th>...</th>\n",
       "      <th>CA_4</th>\n",
       "      <th>Height</th>\n",
       "      <th>Weight</th>\n",
       "      <th>ScholarType</th>\n",
       "      <th>Direction</th>\n",
       "      <th>Gender</th>\n",
       "      <th>Medium</th>\n",
       "      <th>CourseType</th>\n",
       "      <th>ProgramType</th>\n",
       "      <th>Result</th>\n",
       "    </tr>\n",
       "  </thead>\n",
       "  <tbody>\n",
       "    <tr>\n",
       "      <td>38833</td>\n",
       "      <td>418192</td>\n",
       "      <td>9875776</td>\n",
       "      <td>XHQ10</td>\n",
       "      <td>F</td>\n",
       "      <td>0.0</td>\n",
       "      <td>NaN</td>\n",
       "      <td>NaN</td>\n",
       "      <td>84.0</td>\n",
       "      <td>NaN</td>\n",
       "      <td>Dual Degree Bachelor of Technology - Master of...</td>\n",
       "      <td>...</td>\n",
       "      <td>0.0</td>\n",
       "      <td>157</td>\n",
       "      <td>72</td>\n",
       "      <td>Day Scholar</td>\n",
       "      <td>West</td>\n",
       "      <td>Male</td>\n",
       "      <td>Regional</td>\n",
       "      <td>Theory</td>\n",
       "      <td>UG</td>\n",
       "      <td>0</td>\n",
       "    </tr>\n",
       "    <tr>\n",
       "      <td>38834</td>\n",
       "      <td>418192</td>\n",
       "      <td>9875776</td>\n",
       "      <td>XHQ11</td>\n",
       "      <td>E</td>\n",
       "      <td>77.0</td>\n",
       "      <td>NaN</td>\n",
       "      <td>0.0</td>\n",
       "      <td>NaN</td>\n",
       "      <td>94.0</td>\n",
       "      <td>Dual Degree Bachelor of Technology - Master of...</td>\n",
       "      <td>...</td>\n",
       "      <td>4.0</td>\n",
       "      <td>157</td>\n",
       "      <td>72</td>\n",
       "      <td>Day Scholar</td>\n",
       "      <td>West</td>\n",
       "      <td>Male</td>\n",
       "      <td>Regional</td>\n",
       "      <td>Theory</td>\n",
       "      <td>UG</td>\n",
       "      <td>0</td>\n",
       "    </tr>\n",
       "    <tr>\n",
       "      <td>38835</td>\n",
       "      <td>418192</td>\n",
       "      <td>9875776</td>\n",
       "      <td>XHQ245</td>\n",
       "      <td>E</td>\n",
       "      <td>72.0</td>\n",
       "      <td>15.0</td>\n",
       "      <td>12.0</td>\n",
       "      <td>NaN</td>\n",
       "      <td>98.0</td>\n",
       "      <td>Dual Degree Bachelor of Technology - Master of...</td>\n",
       "      <td>...</td>\n",
       "      <td>1.0</td>\n",
       "      <td>157</td>\n",
       "      <td>72</td>\n",
       "      <td>Day Scholar</td>\n",
       "      <td>West</td>\n",
       "      <td>Male</td>\n",
       "      <td>Regional</td>\n",
       "      <td>Theory</td>\n",
       "      <td>UG</td>\n",
       "      <td>0</td>\n",
       "    </tr>\n",
       "    <tr>\n",
       "      <td>38836</td>\n",
       "      <td>418192</td>\n",
       "      <td>9875776</td>\n",
       "      <td>XHQ246</td>\n",
       "      <td>B+</td>\n",
       "      <td>72.0</td>\n",
       "      <td>28.0</td>\n",
       "      <td>62.0</td>\n",
       "      <td>NaN</td>\n",
       "      <td>93.0</td>\n",
       "      <td>Dual Degree Bachelor of Technology - Master of...</td>\n",
       "      <td>...</td>\n",
       "      <td>1.0</td>\n",
       "      <td>157</td>\n",
       "      <td>72</td>\n",
       "      <td>Day Scholar</td>\n",
       "      <td>West</td>\n",
       "      <td>Male</td>\n",
       "      <td>Regional</td>\n",
       "      <td>Theory</td>\n",
       "      <td>UG</td>\n",
       "      <td>1</td>\n",
       "    </tr>\n",
       "    <tr>\n",
       "      <td>40904</td>\n",
       "      <td>418192</td>\n",
       "      <td>10373776</td>\n",
       "      <td>XHQ10</td>\n",
       "      <td>O</td>\n",
       "      <td>83.0</td>\n",
       "      <td>NaN</td>\n",
       "      <td>NaN</td>\n",
       "      <td>90.0</td>\n",
       "      <td>NaN</td>\n",
       "      <td>Dual Degree Bachelor of Technology - Master of...</td>\n",
       "      <td>...</td>\n",
       "      <td>0.0</td>\n",
       "      <td>152</td>\n",
       "      <td>74</td>\n",
       "      <td>Hostler</td>\n",
       "      <td>North</td>\n",
       "      <td>Female</td>\n",
       "      <td>Regional</td>\n",
       "      <td>Theory</td>\n",
       "      <td>UG</td>\n",
       "      <td>1</td>\n",
       "    </tr>\n",
       "  </tbody>\n",
       "</table>\n",
       "<p>5 rows × 23 columns</p>\n",
       "</div>"
      ],
      "text/plain": [
       "       Termid   Regd No  Course Grade  CA_100  MTT_50  ETT_100  ETP_100  \\\n",
       "38833  418192   9875776   XHQ10     F     0.0     NaN      NaN     84.0   \n",
       "38834  418192   9875776   XHQ11     E    77.0     NaN      0.0      NaN   \n",
       "38835  418192   9875776  XHQ245     E    72.0    15.0     12.0      NaN   \n",
       "38836  418192   9875776  XHQ246    B+    72.0    28.0     62.0      NaN   \n",
       "40904  418192  10373776   XHQ10     O    83.0     NaN      NaN     90.0   \n",
       "\n",
       "       Course_Att                                           MHRDName  ...  \\\n",
       "38833         NaN  Dual Degree Bachelor of Technology - Master of...  ...   \n",
       "38834        94.0  Dual Degree Bachelor of Technology - Master of...  ...   \n",
       "38835        98.0  Dual Degree Bachelor of Technology - Master of...  ...   \n",
       "38836        93.0  Dual Degree Bachelor of Technology - Master of...  ...   \n",
       "40904         NaN  Dual Degree Bachelor of Technology - Master of...  ...   \n",
       "\n",
       "       CA_4  Height  Weight  ScholarType  Direction  Gender    Medium  \\\n",
       "38833   0.0     157      72  Day Scholar       West    Male  Regional   \n",
       "38834   4.0     157      72  Day Scholar       West    Male  Regional   \n",
       "38835   1.0     157      72  Day Scholar       West    Male  Regional   \n",
       "38836   1.0     157      72  Day Scholar       West    Male  Regional   \n",
       "40904   0.0     152      74      Hostler      North  Female  Regional   \n",
       "\n",
       "      CourseType ProgramType Result  \n",
       "38833     Theory          UG      0  \n",
       "38834     Theory          UG      0  \n",
       "38835     Theory          UG      0  \n",
       "38836     Theory          UG      1  \n",
       "40904     Theory          UG      1  \n",
       "\n",
       "[5 rows x 23 columns]"
      ]
     },
     "execution_count": 27,
     "metadata": {},
     "output_type": "execute_result"
    }
   ],
   "source": [
    "validation.head()"
   ]
  },
  {
   "cell_type": "code",
   "execution_count": 28,
   "metadata": {},
   "outputs": [
    {
     "name": "stderr",
     "output_type": "stream",
     "text": [
      "C:\\Users\\Shiva Chandra\\Anaconda3\\envs\\tensorflow\\lib\\site-packages\\pandas\\core\\frame.py:4102: SettingWithCopyWarning: \n",
      "A value is trying to be set on a copy of a slice from a DataFrame\n",
      "\n",
      "See the caveats in the documentation: http://pandas.pydata.org/pandas-docs/stable/user_guide/indexing.html#returning-a-view-versus-a-copy\n",
      "  errors=errors,\n"
     ]
    }
   ],
   "source": [
    "cols=['Height','Weight','Direction','Course','Termid','Regd No','Gender','ProgramType'\n",
    "      ,'ScholarType','Medium','CourseType','MHRDName','Grade']\n",
    "validation.drop(cols,axis=1,inplace=True)\n",
    "validation_x=validation.drop(['Result'],axis=1)\n",
    "validation_y=validation['Result']"
   ]
  },
  {
   "cell_type": "code",
   "execution_count": 29,
   "metadata": {},
   "outputs": [],
   "source": [
    "cols=['Height','Weight','Direction','Course','Termid','Regd No','Gender','ProgramType'\n",
    "      ,'ScholarType','Medium','CourseType','MHRDName','Grade']\n",
    "df=df.drop(cols,axis=1)"
   ]
  },
  {
   "cell_type": "code",
   "execution_count": 30,
   "metadata": {},
   "outputs": [
    {
     "data": {
      "text/plain": [
       "(65535, 10)"
      ]
     },
     "execution_count": 30,
     "metadata": {},
     "output_type": "execute_result"
    }
   ],
   "source": [
    "df.shape"
   ]
  },
  {
   "cell_type": "code",
   "execution_count": 31,
   "metadata": {},
   "outputs": [
    {
     "data": {
      "text/plain": [
       "CA_100         2566\n",
       "MTT_50        27121\n",
       "ETT_100       25836\n",
       "ETP_100       35891\n",
       "Course_Att     6081\n",
       "CA_1           2566\n",
       "CA_2           2566\n",
       "CA_3           2566\n",
       "CA_4           2566\n",
       "Result            0\n",
       "dtype: int64"
      ]
     },
     "execution_count": 31,
     "metadata": {},
     "output_type": "execute_result"
    }
   ],
   "source": [
    "df.isnull().sum()"
   ]
  },
  {
   "cell_type": "code",
   "execution_count": 32,
   "metadata": {},
   "outputs": [],
   "source": [
    "#from sklearn.preprocessing import Imputer\n",
    "from sklearn.impute import SimpleImputer\n",
    "im=SimpleImputer(missing_values=np.nan, strategy='mean')"
   ]
  },
  {
   "cell_type": "code",
   "execution_count": 33,
   "metadata": {},
   "outputs": [],
   "source": [
    "imputed_data=im.fit_transform(df)"
   ]
  },
  {
   "cell_type": "code",
   "execution_count": 34,
   "metadata": {},
   "outputs": [
    {
     "data": {
      "text/plain": [
       "(65535, 10)"
      ]
     },
     "execution_count": 34,
     "metadata": {},
     "output_type": "execute_result"
    }
   ],
   "source": [
    "imputed_data.shape"
   ]
  },
  {
   "cell_type": "code",
   "execution_count": 35,
   "metadata": {},
   "outputs": [
    {
     "data": {
      "text/plain": [
       "numpy.ndarray"
      ]
     },
     "execution_count": 35,
     "metadata": {},
     "output_type": "execute_result"
    }
   ],
   "source": [
    "type(imputed_data)"
   ]
  },
  {
   "cell_type": "code",
   "execution_count": 36,
   "metadata": {},
   "outputs": [],
   "source": [
    "cols=df.columns\n",
    "df=pd.DataFrame(imputed_data,columns=cols)"
   ]
  },
  {
   "cell_type": "code",
   "execution_count": 37,
   "metadata": {},
   "outputs": [
    {
     "data": {
      "text/html": [
       "<div>\n",
       "<style scoped>\n",
       "    .dataframe tbody tr th:only-of-type {\n",
       "        vertical-align: middle;\n",
       "    }\n",
       "\n",
       "    .dataframe tbody tr th {\n",
       "        vertical-align: top;\n",
       "    }\n",
       "\n",
       "    .dataframe thead th {\n",
       "        text-align: right;\n",
       "    }\n",
       "</style>\n",
       "<table border=\"1\" class=\"dataframe\">\n",
       "  <thead>\n",
       "    <tr style=\"text-align: right;\">\n",
       "      <th></th>\n",
       "      <th>CA_100</th>\n",
       "      <th>MTT_50</th>\n",
       "      <th>ETT_100</th>\n",
       "      <th>ETP_100</th>\n",
       "      <th>Course_Att</th>\n",
       "      <th>CA_1</th>\n",
       "      <th>CA_2</th>\n",
       "      <th>CA_3</th>\n",
       "      <th>CA_4</th>\n",
       "      <th>Result</th>\n",
       "    </tr>\n",
       "  </thead>\n",
       "  <tbody>\n",
       "    <tr>\n",
       "      <td>0</td>\n",
       "      <td>87.000000</td>\n",
       "      <td>39.000000</td>\n",
       "      <td>82.00000</td>\n",
       "      <td>89.0</td>\n",
       "      <td>88.0</td>\n",
       "      <td>41.000000</td>\n",
       "      <td>45.000000</td>\n",
       "      <td>1.000000</td>\n",
       "      <td>0.00000</td>\n",
       "      <td>1.0</td>\n",
       "    </tr>\n",
       "    <tr>\n",
       "      <td>1</td>\n",
       "      <td>87.000000</td>\n",
       "      <td>47.000000</td>\n",
       "      <td>65.00000</td>\n",
       "      <td>85.0</td>\n",
       "      <td>82.0</td>\n",
       "      <td>86.000000</td>\n",
       "      <td>0.000000</td>\n",
       "      <td>0.000000</td>\n",
       "      <td>1.00000</td>\n",
       "      <td>1.0</td>\n",
       "    </tr>\n",
       "    <tr>\n",
       "      <td>2</td>\n",
       "      <td>84.000000</td>\n",
       "      <td>29.000000</td>\n",
       "      <td>63.00000</td>\n",
       "      <td>77.0</td>\n",
       "      <td>76.0</td>\n",
       "      <td>76.000000</td>\n",
       "      <td>0.000000</td>\n",
       "      <td>3.000000</td>\n",
       "      <td>5.00000</td>\n",
       "      <td>1.0</td>\n",
       "    </tr>\n",
       "    <tr>\n",
       "      <td>3</td>\n",
       "      <td>63.772317</td>\n",
       "      <td>26.110637</td>\n",
       "      <td>52.05247</td>\n",
       "      <td>82.0</td>\n",
       "      <td>74.0</td>\n",
       "      <td>31.961918</td>\n",
       "      <td>15.926504</td>\n",
       "      <td>7.937985</td>\n",
       "      <td>7.94591</td>\n",
       "      <td>1.0</td>\n",
       "    </tr>\n",
       "    <tr>\n",
       "      <td>4</td>\n",
       "      <td>87.000000</td>\n",
       "      <td>34.000000</td>\n",
       "      <td>68.00000</td>\n",
       "      <td>89.0</td>\n",
       "      <td>76.0</td>\n",
       "      <td>42.000000</td>\n",
       "      <td>26.000000</td>\n",
       "      <td>2.000000</td>\n",
       "      <td>17.00000</td>\n",
       "      <td>1.0</td>\n",
       "    </tr>\n",
       "  </tbody>\n",
       "</table>\n",
       "</div>"
      ],
      "text/plain": [
       "      CA_100     MTT_50   ETT_100  ETP_100  Course_Att       CA_1       CA_2  \\\n",
       "0  87.000000  39.000000  82.00000     89.0        88.0  41.000000  45.000000   \n",
       "1  87.000000  47.000000  65.00000     85.0        82.0  86.000000   0.000000   \n",
       "2  84.000000  29.000000  63.00000     77.0        76.0  76.000000   0.000000   \n",
       "3  63.772317  26.110637  52.05247     82.0        74.0  31.961918  15.926504   \n",
       "4  87.000000  34.000000  68.00000     89.0        76.0  42.000000  26.000000   \n",
       "\n",
       "       CA_3      CA_4  Result  \n",
       "0  1.000000   0.00000     1.0  \n",
       "1  0.000000   1.00000     1.0  \n",
       "2  3.000000   5.00000     1.0  \n",
       "3  7.937985   7.94591     1.0  \n",
       "4  2.000000  17.00000     1.0  "
      ]
     },
     "execution_count": 37,
     "metadata": {},
     "output_type": "execute_result"
    }
   ],
   "source": [
    "df.head()"
   ]
  },
  {
   "cell_type": "code",
   "execution_count": 38,
   "metadata": {},
   "outputs": [
    {
     "data": {
      "text/plain": [
       "CA_100        0\n",
       "MTT_50        0\n",
       "ETT_100       0\n",
       "ETP_100       0\n",
       "Course_Att    0\n",
       "CA_1          0\n",
       "CA_2          0\n",
       "CA_3          0\n",
       "CA_4          0\n",
       "Result        0\n",
       "dtype: int64"
      ]
     },
     "execution_count": 38,
     "metadata": {},
     "output_type": "execute_result"
    }
   ],
   "source": [
    "df.isnull().sum()"
   ]
  },
  {
   "cell_type": "code",
   "execution_count": 39,
   "metadata": {},
   "outputs": [
    {
     "data": {
      "text/plain": [
       "CA_100        float64\n",
       "MTT_50        float64\n",
       "ETT_100       float64\n",
       "ETP_100       float64\n",
       "Course_Att    float64\n",
       "CA_1          float64\n",
       "CA_2          float64\n",
       "CA_3          float64\n",
       "CA_4          float64\n",
       "Result        float64\n",
       "dtype: object"
      ]
     },
     "execution_count": 39,
     "metadata": {},
     "output_type": "execute_result"
    }
   ],
   "source": [
    "df.dtypes"
   ]
  },
  {
   "cell_type": "code",
   "execution_count": 40,
   "metadata": {},
   "outputs": [],
   "source": [
    "# df['CA_100']=df['CA_100'].astype(float)\n",
    "# df['MTT_50']=df['MTT_50'].astype(float)\n",
    "# df['ETT_100']=df['ETT_100'].astype(float)\n",
    "# df['Course_Att']=df['Course_Att'].astype(float)\n",
    "# df['Result']=df['Result'].astype(int)"
   ]
  },
  {
   "cell_type": "code",
   "execution_count": 41,
   "metadata": {
    "scrolled": true
   },
   "outputs": [
    {
     "data": {
      "text/plain": [
       "CA_100        float64\n",
       "MTT_50        float64\n",
       "ETT_100       float64\n",
       "ETP_100       float64\n",
       "Course_Att    float64\n",
       "CA_1          float64\n",
       "CA_2          float64\n",
       "CA_3          float64\n",
       "CA_4          float64\n",
       "Result        float64\n",
       "dtype: object"
      ]
     },
     "execution_count": 41,
     "metadata": {},
     "output_type": "execute_result"
    }
   ],
   "source": [
    "df.dtypes"
   ]
  },
  {
   "cell_type": "markdown",
   "metadata": {},
   "source": [
    "### In the below cell we are removing the rows which consists course as practical.  Why are we Deleting ?\n",
    "we are deleting because the data we have to predict i.e Dual Degree Bachelor of Technology - Master of Technology (Mechanical Engineering) is a theory one."
   ]
  },
  {
   "cell_type": "code",
   "execution_count": 42,
   "metadata": {},
   "outputs": [],
   "source": [
    "train_data=df"
   ]
  },
  {
   "cell_type": "code",
   "execution_count": 43,
   "metadata": {},
   "outputs": [
    {
     "data": {
      "text/html": [
       "<div>\n",
       "<style scoped>\n",
       "    .dataframe tbody tr th:only-of-type {\n",
       "        vertical-align: middle;\n",
       "    }\n",
       "\n",
       "    .dataframe tbody tr th {\n",
       "        vertical-align: top;\n",
       "    }\n",
       "\n",
       "    .dataframe thead th {\n",
       "        text-align: right;\n",
       "    }\n",
       "</style>\n",
       "<table border=\"1\" class=\"dataframe\">\n",
       "  <thead>\n",
       "    <tr style=\"text-align: right;\">\n",
       "      <th></th>\n",
       "      <th>CA_100</th>\n",
       "      <th>MTT_50</th>\n",
       "      <th>ETT_100</th>\n",
       "      <th>ETP_100</th>\n",
       "      <th>Course_Att</th>\n",
       "      <th>CA_1</th>\n",
       "      <th>CA_2</th>\n",
       "      <th>CA_3</th>\n",
       "      <th>CA_4</th>\n",
       "      <th>Result</th>\n",
       "    </tr>\n",
       "  </thead>\n",
       "  <tbody>\n",
       "    <tr>\n",
       "      <td>0</td>\n",
       "      <td>87.000000</td>\n",
       "      <td>39.000000</td>\n",
       "      <td>82.00000</td>\n",
       "      <td>89.0</td>\n",
       "      <td>88.0</td>\n",
       "      <td>41.000000</td>\n",
       "      <td>45.000000</td>\n",
       "      <td>1.000000</td>\n",
       "      <td>0.00000</td>\n",
       "      <td>1.0</td>\n",
       "    </tr>\n",
       "    <tr>\n",
       "      <td>1</td>\n",
       "      <td>87.000000</td>\n",
       "      <td>47.000000</td>\n",
       "      <td>65.00000</td>\n",
       "      <td>85.0</td>\n",
       "      <td>82.0</td>\n",
       "      <td>86.000000</td>\n",
       "      <td>0.000000</td>\n",
       "      <td>0.000000</td>\n",
       "      <td>1.00000</td>\n",
       "      <td>1.0</td>\n",
       "    </tr>\n",
       "    <tr>\n",
       "      <td>2</td>\n",
       "      <td>84.000000</td>\n",
       "      <td>29.000000</td>\n",
       "      <td>63.00000</td>\n",
       "      <td>77.0</td>\n",
       "      <td>76.0</td>\n",
       "      <td>76.000000</td>\n",
       "      <td>0.000000</td>\n",
       "      <td>3.000000</td>\n",
       "      <td>5.00000</td>\n",
       "      <td>1.0</td>\n",
       "    </tr>\n",
       "    <tr>\n",
       "      <td>3</td>\n",
       "      <td>63.772317</td>\n",
       "      <td>26.110637</td>\n",
       "      <td>52.05247</td>\n",
       "      <td>82.0</td>\n",
       "      <td>74.0</td>\n",
       "      <td>31.961918</td>\n",
       "      <td>15.926504</td>\n",
       "      <td>7.937985</td>\n",
       "      <td>7.94591</td>\n",
       "      <td>1.0</td>\n",
       "    </tr>\n",
       "    <tr>\n",
       "      <td>4</td>\n",
       "      <td>87.000000</td>\n",
       "      <td>34.000000</td>\n",
       "      <td>68.00000</td>\n",
       "      <td>89.0</td>\n",
       "      <td>76.0</td>\n",
       "      <td>42.000000</td>\n",
       "      <td>26.000000</td>\n",
       "      <td>2.000000</td>\n",
       "      <td>17.00000</td>\n",
       "      <td>1.0</td>\n",
       "    </tr>\n",
       "  </tbody>\n",
       "</table>\n",
       "</div>"
      ],
      "text/plain": [
       "      CA_100     MTT_50   ETT_100  ETP_100  Course_Att       CA_1       CA_2  \\\n",
       "0  87.000000  39.000000  82.00000     89.0        88.0  41.000000  45.000000   \n",
       "1  87.000000  47.000000  65.00000     85.0        82.0  86.000000   0.000000   \n",
       "2  84.000000  29.000000  63.00000     77.0        76.0  76.000000   0.000000   \n",
       "3  63.772317  26.110637  52.05247     82.0        74.0  31.961918  15.926504   \n",
       "4  87.000000  34.000000  68.00000     89.0        76.0  42.000000  26.000000   \n",
       "\n",
       "       CA_3      CA_4  Result  \n",
       "0  1.000000   0.00000     1.0  \n",
       "1  0.000000   1.00000     1.0  \n",
       "2  3.000000   5.00000     1.0  \n",
       "3  7.937985   7.94591     1.0  \n",
       "4  2.000000  17.00000     1.0  "
      ]
     },
     "execution_count": 43,
     "metadata": {},
     "output_type": "execute_result"
    }
   ],
   "source": [
    "train_data.head()"
   ]
  },
  {
   "cell_type": "code",
   "execution_count": 44,
   "metadata": {},
   "outputs": [
    {
     "data": {
      "text/plain": [
       "CA_100        float64\n",
       "MTT_50        float64\n",
       "ETT_100       float64\n",
       "ETP_100       float64\n",
       "Course_Att    float64\n",
       "CA_1          float64\n",
       "CA_2          float64\n",
       "CA_3          float64\n",
       "CA_4          float64\n",
       "Result        float64\n",
       "dtype: object"
      ]
     },
     "execution_count": 44,
     "metadata": {},
     "output_type": "execute_result"
    }
   ],
   "source": [
    "train_data.dtypes"
   ]
  },
  {
   "cell_type": "code",
   "execution_count": 45,
   "metadata": {},
   "outputs": [
    {
     "data": {
      "text/plain": [
       "CA_100        0\n",
       "MTT_50        0\n",
       "ETT_100       0\n",
       "ETP_100       0\n",
       "Course_Att    0\n",
       "CA_1          0\n",
       "CA_2          0\n",
       "CA_3          0\n",
       "CA_4          0\n",
       "Result        0\n",
       "dtype: int64"
      ]
     },
     "execution_count": 45,
     "metadata": {},
     "output_type": "execute_result"
    }
   ],
   "source": [
    "train_data.isnull().sum()"
   ]
  },
  {
   "cell_type": "code",
   "execution_count": 46,
   "metadata": {},
   "outputs": [],
   "source": [
    "train_data=train_data[train_data.isnull().sum(axis=1)<3]"
   ]
  },
  {
   "cell_type": "code",
   "execution_count": 47,
   "metadata": {},
   "outputs": [
    {
     "data": {
      "text/plain": [
       "CA_100        0\n",
       "MTT_50        0\n",
       "ETT_100       0\n",
       "ETP_100       0\n",
       "Course_Att    0\n",
       "CA_1          0\n",
       "CA_2          0\n",
       "CA_3          0\n",
       "CA_4          0\n",
       "Result        0\n",
       "dtype: int64"
      ]
     },
     "execution_count": 47,
     "metadata": {},
     "output_type": "execute_result"
    }
   ],
   "source": [
    "train_data.isnull().sum()"
   ]
  },
  {
   "cell_type": "code",
   "execution_count": 48,
   "metadata": {},
   "outputs": [
    {
     "data": {
      "text/plain": [
       "1.0    57798\n",
       "0.0     7737\n",
       "Name: Result, dtype: int64"
      ]
     },
     "execution_count": 48,
     "metadata": {},
     "output_type": "execute_result"
    }
   ],
   "source": [
    "train_data['Result'].value_counts()"
   ]
  },
  {
   "cell_type": "code",
   "execution_count": 49,
   "metadata": {},
   "outputs": [
    {
     "data": {
      "text/plain": [
       "(65535, 10)"
      ]
     },
     "execution_count": 49,
     "metadata": {},
     "output_type": "execute_result"
    }
   ],
   "source": [
    "train_data.shape"
   ]
  },
  {
   "cell_type": "code",
   "execution_count": 50,
   "metadata": {},
   "outputs": [],
   "source": [
    "result=train_data.dropna()\n",
    "arr=result['Result']\n",
    "result=result.drop(['Result'],axis=1)"
   ]
  },
  {
   "cell_type": "code",
   "execution_count": 51,
   "metadata": {},
   "outputs": [],
   "source": [
    "from sklearn.preprocessing import StandardScaler\n",
    "ss=StandardScaler()"
   ]
  },
  {
   "cell_type": "code",
   "execution_count": 52,
   "metadata": {},
   "outputs": [],
   "source": [
    "abc=ss.fit_transform(result)\n",
    "abc.reshape(-1,1)\n",
    "abc.shape\n",
    "cols=result.columns\n",
    "result=pd.DataFrame(abc,columns=cols)"
   ]
  },
  {
   "cell_type": "code",
   "execution_count": 53,
   "metadata": {},
   "outputs": [
    {
     "data": {
      "text/html": [
       "<div>\n",
       "<style scoped>\n",
       "    .dataframe tbody tr th:only-of-type {\n",
       "        vertical-align: middle;\n",
       "    }\n",
       "\n",
       "    .dataframe tbody tr th {\n",
       "        vertical-align: top;\n",
       "    }\n",
       "\n",
       "    .dataframe thead th {\n",
       "        text-align: right;\n",
       "    }\n",
       "</style>\n",
       "<table border=\"1\" class=\"dataframe\">\n",
       "  <thead>\n",
       "    <tr style=\"text-align: right;\">\n",
       "      <th></th>\n",
       "      <th>CA_100</th>\n",
       "      <th>MTT_50</th>\n",
       "      <th>ETT_100</th>\n",
       "      <th>ETP_100</th>\n",
       "      <th>Course_Att</th>\n",
       "      <th>CA_1</th>\n",
       "      <th>CA_2</th>\n",
       "      <th>CA_3</th>\n",
       "      <th>CA_4</th>\n",
       "    </tr>\n",
       "  </thead>\n",
       "  <tbody>\n",
       "    <tr>\n",
       "      <td>0</td>\n",
       "      <td>9.952347e-01</td>\n",
       "      <td>1.425380e+00</td>\n",
       "      <td>1.674976e+00</td>\n",
       "      <td>1.424680</td>\n",
       "      <td>0.406454</td>\n",
       "      <td>3.974745e-01</td>\n",
       "      <td>1.806207</td>\n",
       "      <td>-6.644782e-01</td>\n",
       "      <td>-0.760849</td>\n",
       "    </tr>\n",
       "    <tr>\n",
       "      <td>1</td>\n",
       "      <td>9.952347e-01</td>\n",
       "      <td>2.310066e+00</td>\n",
       "      <td>7.241599e-01</td>\n",
       "      <td>1.163488</td>\n",
       "      <td>0.055725</td>\n",
       "      <td>2.376473e+00</td>\n",
       "      <td>-0.989443</td>\n",
       "      <td>-7.602521e-01</td>\n",
       "      <td>-0.665095</td>\n",
       "    </tr>\n",
       "    <tr>\n",
       "      <td>2</td>\n",
       "      <td>8.666940e-01</td>\n",
       "      <td>3.195225e-01</td>\n",
       "      <td>6.122992e-01</td>\n",
       "      <td>0.641104</td>\n",
       "      <td>-0.295003</td>\n",
       "      <td>1.936696e+00</td>\n",
       "      <td>-0.989443</td>\n",
       "      <td>-4.729303e-01</td>\n",
       "      <td>-0.282081</td>\n",
       "    </tr>\n",
       "    <tr>\n",
       "      <td>3</td>\n",
       "      <td>3.044457e-16</td>\n",
       "      <td>3.928796e-16</td>\n",
       "      <td>-3.974090e-16</td>\n",
       "      <td>0.967594</td>\n",
       "      <td>-0.411912</td>\n",
       "      <td>-1.562403e-16</td>\n",
       "      <td>0.000000</td>\n",
       "      <td>-8.506435e-17</td>\n",
       "      <td>0.000000</td>\n",
       "    </tr>\n",
       "    <tr>\n",
       "      <td>4</td>\n",
       "      <td>9.952347e-01</td>\n",
       "      <td>8.724513e-01</td>\n",
       "      <td>8.919510e-01</td>\n",
       "      <td>1.424680</td>\n",
       "      <td>-0.295003</td>\n",
       "      <td>4.414522e-01</td>\n",
       "      <td>0.625822</td>\n",
       "      <td>-5.687043e-01</td>\n",
       "      <td>0.866961</td>\n",
       "    </tr>\n",
       "  </tbody>\n",
       "</table>\n",
       "</div>"
      ],
      "text/plain": [
       "         CA_100        MTT_50       ETT_100   ETP_100  Course_Att  \\\n",
       "0  9.952347e-01  1.425380e+00  1.674976e+00  1.424680    0.406454   \n",
       "1  9.952347e-01  2.310066e+00  7.241599e-01  1.163488    0.055725   \n",
       "2  8.666940e-01  3.195225e-01  6.122992e-01  0.641104   -0.295003   \n",
       "3  3.044457e-16  3.928796e-16 -3.974090e-16  0.967594   -0.411912   \n",
       "4  9.952347e-01  8.724513e-01  8.919510e-01  1.424680   -0.295003   \n",
       "\n",
       "           CA_1      CA_2          CA_3      CA_4  \n",
       "0  3.974745e-01  1.806207 -6.644782e-01 -0.760849  \n",
       "1  2.376473e+00 -0.989443 -7.602521e-01 -0.665095  \n",
       "2  1.936696e+00 -0.989443 -4.729303e-01 -0.282081  \n",
       "3 -1.562403e-16  0.000000 -8.506435e-17  0.000000  \n",
       "4  4.414522e-01  0.625822 -5.687043e-01  0.866961  "
      ]
     },
     "execution_count": 53,
     "metadata": {},
     "output_type": "execute_result"
    }
   ],
   "source": [
    "result.head()"
   ]
  },
  {
   "cell_type": "code",
   "execution_count": 54,
   "metadata": {},
   "outputs": [
    {
     "data": {
      "text/html": [
       "<div>\n",
       "<style scoped>\n",
       "    .dataframe tbody tr th:only-of-type {\n",
       "        vertical-align: middle;\n",
       "    }\n",
       "\n",
       "    .dataframe tbody tr th {\n",
       "        vertical-align: top;\n",
       "    }\n",
       "\n",
       "    .dataframe thead th {\n",
       "        text-align: right;\n",
       "    }\n",
       "</style>\n",
       "<table border=\"1\" class=\"dataframe\">\n",
       "  <thead>\n",
       "    <tr style=\"text-align: right;\">\n",
       "      <th></th>\n",
       "      <th>CA_100</th>\n",
       "      <th>MTT_50</th>\n",
       "      <th>ETT_100</th>\n",
       "      <th>ETP_100</th>\n",
       "      <th>Course_Att</th>\n",
       "      <th>CA_1</th>\n",
       "      <th>CA_2</th>\n",
       "      <th>CA_3</th>\n",
       "      <th>CA_4</th>\n",
       "    </tr>\n",
       "  </thead>\n",
       "  <tbody>\n",
       "    <tr>\n",
       "      <td>count</td>\n",
       "      <td>6.553500e+04</td>\n",
       "      <td>6.553500e+04</td>\n",
       "      <td>6.553500e+04</td>\n",
       "      <td>6.553500e+04</td>\n",
       "      <td>6.553500e+04</td>\n",
       "      <td>6.553500e+04</td>\n",
       "      <td>6.553500e+04</td>\n",
       "      <td>6.553500e+04</td>\n",
       "      <td>6.553500e+04</td>\n",
       "    </tr>\n",
       "    <tr>\n",
       "      <td>mean</td>\n",
       "      <td>1.745519e-15</td>\n",
       "      <td>-1.782266e-15</td>\n",
       "      <td>-2.145025e-16</td>\n",
       "      <td>6.155271e-16</td>\n",
       "      <td>-3.926856e-15</td>\n",
       "      <td>9.516526e-16</td>\n",
       "      <td>-7.370434e-16</td>\n",
       "      <td>-6.777959e-16</td>\n",
       "      <td>-1.110574e-15</td>\n",
       "    </tr>\n",
       "    <tr>\n",
       "      <td>std</td>\n",
       "      <td>1.000008e+00</td>\n",
       "      <td>1.000008e+00</td>\n",
       "      <td>1.000008e+00</td>\n",
       "      <td>1.000008e+00</td>\n",
       "      <td>1.000008e+00</td>\n",
       "      <td>1.000008e+00</td>\n",
       "      <td>1.000008e+00</td>\n",
       "      <td>1.000008e+00</td>\n",
       "      <td>1.000008e+00</td>\n",
       "    </tr>\n",
       "    <tr>\n",
       "      <td>min</td>\n",
       "      <td>-2.732447e+00</td>\n",
       "      <td>-2.887465e+00</td>\n",
       "      <td>-2.911313e+00</td>\n",
       "      <td>-4.386848e+00</td>\n",
       "      <td>-4.737561e+00</td>\n",
       "      <td>-1.405613e+00</td>\n",
       "      <td>-9.894431e-01</td>\n",
       "      <td>-7.602521e-01</td>\n",
       "      <td>-7.608488e-01</td>\n",
       "    </tr>\n",
       "    <tr>\n",
       "      <td>25%</td>\n",
       "      <td>-4.187137e-01</td>\n",
       "      <td>-1.228206e-01</td>\n",
       "      <td>-2.934656e-03</td>\n",
       "      <td>0.000000e+00</td>\n",
       "      <td>-2.365482e-01</td>\n",
       "      <td>-8.339024e-01</td>\n",
       "      <td>-8.030664e-01</td>\n",
       "      <td>-6.644782e-01</td>\n",
       "      <td>-6.650953e-01</td>\n",
       "    </tr>\n",
       "    <tr>\n",
       "      <td>50%</td>\n",
       "      <td>1.811432e-01</td>\n",
       "      <td>3.928796e-16</td>\n",
       "      <td>-3.974090e-16</td>\n",
       "      <td>0.000000e+00</td>\n",
       "      <td>1.141801e-01</td>\n",
       "      <td>-4.230298e-02</td>\n",
       "      <td>-3.060618e-01</td>\n",
       "      <td>-3.771564e-01</td>\n",
       "      <td>-3.778347e-01</td>\n",
       "    </tr>\n",
       "    <tr>\n",
       "      <td>75%</td>\n",
       "      <td>6.953063e-01</td>\n",
       "      <td>3.195225e-01</td>\n",
       "      <td>4.445082e-01</td>\n",
       "      <td>2.493151e-01</td>\n",
       "      <td>6.402726e-01</td>\n",
       "      <td>7.053187e-01</td>\n",
       "      <td>5.015706e-01</td>\n",
       "      <td>2.932612e-01</td>\n",
       "      <td>2.924399e-01</td>\n",
       "    </tr>\n",
       "    <tr>\n",
       "      <td>max</td>\n",
       "      <td>1.552245e+00</td>\n",
       "      <td>2.641824e+00</td>\n",
       "      <td>2.681722e+00</td>\n",
       "      <td>2.142959e+00</td>\n",
       "      <td>1.107910e+00</td>\n",
       "      <td>2.992162e+00</td>\n",
       "      <td>4.850360e+00</td>\n",
       "      <td>7.763629e+00</td>\n",
       "      <td>7.569707e+00</td>\n",
       "    </tr>\n",
       "  </tbody>\n",
       "</table>\n",
       "</div>"
      ],
      "text/plain": [
       "             CA_100        MTT_50       ETT_100       ETP_100    Course_Att  \\\n",
       "count  6.553500e+04  6.553500e+04  6.553500e+04  6.553500e+04  6.553500e+04   \n",
       "mean   1.745519e-15 -1.782266e-15 -2.145025e-16  6.155271e-16 -3.926856e-15   \n",
       "std    1.000008e+00  1.000008e+00  1.000008e+00  1.000008e+00  1.000008e+00   \n",
       "min   -2.732447e+00 -2.887465e+00 -2.911313e+00 -4.386848e+00 -4.737561e+00   \n",
       "25%   -4.187137e-01 -1.228206e-01 -2.934656e-03  0.000000e+00 -2.365482e-01   \n",
       "50%    1.811432e-01  3.928796e-16 -3.974090e-16  0.000000e+00  1.141801e-01   \n",
       "75%    6.953063e-01  3.195225e-01  4.445082e-01  2.493151e-01  6.402726e-01   \n",
       "max    1.552245e+00  2.641824e+00  2.681722e+00  2.142959e+00  1.107910e+00   \n",
       "\n",
       "               CA_1          CA_2          CA_3          CA_4  \n",
       "count  6.553500e+04  6.553500e+04  6.553500e+04  6.553500e+04  \n",
       "mean   9.516526e-16 -7.370434e-16 -6.777959e-16 -1.110574e-15  \n",
       "std    1.000008e+00  1.000008e+00  1.000008e+00  1.000008e+00  \n",
       "min   -1.405613e+00 -9.894431e-01 -7.602521e-01 -7.608488e-01  \n",
       "25%   -8.339024e-01 -8.030664e-01 -6.644782e-01 -6.650953e-01  \n",
       "50%   -4.230298e-02 -3.060618e-01 -3.771564e-01 -3.778347e-01  \n",
       "75%    7.053187e-01  5.015706e-01  2.932612e-01  2.924399e-01  \n",
       "max    2.992162e+00  4.850360e+00  7.763629e+00  7.569707e+00  "
      ]
     },
     "execution_count": 54,
     "metadata": {},
     "output_type": "execute_result"
    }
   ],
   "source": [
    "result.describe()"
   ]
  },
  {
   "cell_type": "code",
   "execution_count": 55,
   "metadata": {},
   "outputs": [
    {
     "data": {
      "text/plain": [
       "(65535,)"
      ]
     },
     "execution_count": 55,
     "metadata": {},
     "output_type": "execute_result"
    }
   ],
   "source": [
    "arr.shape"
   ]
  },
  {
   "cell_type": "code",
   "execution_count": 56,
   "metadata": {},
   "outputs": [],
   "source": [
    "x=result\n",
    "y=arr"
   ]
  },
  {
   "cell_type": "code",
   "execution_count": 57,
   "metadata": {},
   "outputs": [],
   "source": [
    "from sklearn.model_selection import train_test_split\n",
    "x_train,x_test,y_train,y_test=train_test_split(x,y,test_size=0.2,random_state=54)"
   ]
  },
  {
   "cell_type": "code",
   "execution_count": 58,
   "metadata": {},
   "outputs": [
    {
     "data": {
      "text/plain": [
       "(52428, 9)"
      ]
     },
     "execution_count": 58,
     "metadata": {},
     "output_type": "execute_result"
    }
   ],
   "source": [
    "x_train.shape"
   ]
  },
  {
   "cell_type": "code",
   "execution_count": 59,
   "metadata": {},
   "outputs": [],
   "source": [
    "y_train=y_train.astype(int)"
   ]
  },
  {
   "cell_type": "code",
   "execution_count": 60,
   "metadata": {},
   "outputs": [],
   "source": [
    "train_sizes =np.linspace(0.1,1,10)"
   ]
  },
  {
   "cell_type": "code",
   "execution_count": 61,
   "metadata": {},
   "outputs": [],
   "source": [
    "X=x_train\n",
    "y=y_train"
   ]
  },
  {
   "cell_type": "code",
   "execution_count": 62,
   "metadata": {},
   "outputs": [],
   "source": [
    "from sklearn.linear_model import LogisticRegression\n",
    "lr3=LogisticRegression(solver='liblinear',C=0.02)"
   ]
  },
  {
   "cell_type": "code",
   "execution_count": 63,
   "metadata": {},
   "outputs": [],
   "source": [
    "lr3.fit(x_train,y_train)\n",
    "y_pred3=lr3.predict(x_test)"
   ]
  },
  {
   "cell_type": "code",
   "execution_count": 64,
   "metadata": {},
   "outputs": [
    {
     "name": "stdout",
     "output_type": "stream",
     "text": [
      "0.9742885481040665\n"
     ]
    }
   ],
   "source": [
    "from sklearn.metrics import accuracy_score\n",
    "print(accuracy_score(y_test,y_pred3))"
   ]
  },
  {
   "cell_type": "code",
   "execution_count": 65,
   "metadata": {},
   "outputs": [],
   "source": [
    "from sklearn.linear_model import LogisticRegression\n",
    "lr=LogisticRegression(solver='liblinear')"
   ]
  },
  {
   "cell_type": "code",
   "execution_count": 66,
   "metadata": {},
   "outputs": [],
   "source": [
    "from sklearn.model_selection import learning_curve\n",
    "from sklearn.linear_model import LogisticRegression\n",
    "train_sizes, train_scores, validation_scores = learning_curve(estimator =lr,\n",
    "                                                              X = X,\n",
    "                                                              y = y,\n",
    "                                                              train_sizes = train_sizes,\n",
    "                                                              cv = 10,\n",
    "                                                              random_state=95,\n",
    "                                                             )"
   ]
  },
  {
   "cell_type": "code",
   "execution_count": 67,
   "metadata": {},
   "outputs": [
    {
     "data": {
      "text/plain": [
       "array([[0.97350572, 0.97350572, 0.97350572, 0.97350572, 0.97350572,\n",
       "        0.97350572, 0.97350572, 0.97350572, 0.97350572, 0.97350572],\n",
       "       [0.97276388, 0.97286986, 0.97297584, 0.97297584, 0.97297584,\n",
       "        0.97297584, 0.97297584, 0.97297584, 0.97297584, 0.97297584],\n",
       "       [0.97315436, 0.97371953, 0.9733663 , 0.9724479 , 0.9724479 ,\n",
       "        0.9724479 , 0.9724479 , 0.9724479 , 0.9724479 , 0.9724479 ],\n",
       "       [0.97340116, 0.97303025, 0.97340116, 0.97239443, 0.97297727,\n",
       "        0.97297727, 0.97297727, 0.97297727, 0.97297727, 0.97297727],\n",
       "       [0.97219396, 0.97257545, 0.97236351, 0.97177009, 0.97312648,\n",
       "        0.97291455, 0.97291455, 0.97291455, 0.97291455, 0.97291455],\n",
       "       [0.97230661, 0.9724479 , 0.97237725, 0.97202402, 0.97315436,\n",
       "        0.97262451, 0.97212999, 0.97212999, 0.97212999, 0.97212999],\n",
       "       [0.97268984, 0.97278067, 0.97278067, 0.97244762, 0.9735376 ,\n",
       "        0.97293206, 0.9722054 , 0.97256873, 0.97256873, 0.97256873],\n",
       "       [0.97305746, 0.97297799, 0.97316343, 0.97289851, 0.97369327,\n",
       "        0.97313694, 0.97266008, 0.97321641, 0.97281903, 0.97281903],\n",
       "       [0.9733663 , 0.97322501, 0.97353114, 0.97320146, 0.97395502,\n",
       "        0.97348405, 0.97310726, 0.97360179, 0.97310726, 0.97308372],\n",
       "       [0.97371991, 0.97393184, 0.97391065, 0.97371991, 0.9743981 ,\n",
       "        0.97395303, 0.97367752, 0.9740802 , 0.97338081, 0.97325365]])"
      ]
     },
     "execution_count": 67,
     "metadata": {},
     "output_type": "execute_result"
    }
   ],
   "source": [
    "train_scores"
   ]
  },
  {
   "cell_type": "code",
   "execution_count": 68,
   "metadata": {},
   "outputs": [
    {
     "data": {
      "text/plain": [
       "array([[0.97520976, 0.96948894, 0.97081823, 0.97291627, 0.96681289,\n",
       "        0.97005531, 0.97367417, 0.96795116, 0.97386494, 0.97329264],\n",
       "       [0.97482838, 0.97025172, 0.97329773, 0.97348846, 0.96795728,\n",
       "        0.97158116, 0.97367417, 0.96985883, 0.97539107, 0.97424647],\n",
       "       [0.9740656 , 0.9706331 , 0.97367919, 0.97406065, 0.96948312,\n",
       "        0.97196262, 0.97500954, 0.9700496 , 0.97577261, 0.97500954],\n",
       "       [0.97540046, 0.97158658, 0.97482357, 0.97482357, 0.96814801,\n",
       "        0.97119969, 0.97386494, 0.96966807, 0.97500954, 0.97424647],\n",
       "       [0.97520976, 0.97101449, 0.97444211, 0.97444211, 0.9687202 ,\n",
       "        0.97253481, 0.97481877, 0.9700496 , 0.97615414, 0.97481877],\n",
       "       [0.97501907, 0.97101449, 0.97444211, 0.97463284, 0.96891093,\n",
       "        0.97196262, 0.97424647, 0.97024037, 0.97558184, 0.97443724],\n",
       "       [0.97482838, 0.97177727, 0.97463284, 0.97463284, 0.96910166,\n",
       "        0.973107  , 0.97481877, 0.97024037, 0.97520031, 0.974628  ],\n",
       "       [0.97520976, 0.97158658, 0.9750143 , 0.97463284, 0.96929239,\n",
       "        0.97291627, 0.974628  , 0.9700496 , 0.97558184, 0.97500954],\n",
       "       [0.97501907, 0.97196796, 0.97482357, 0.97463284, 0.96929239,\n",
       "        0.97291627, 0.97481877, 0.9700496 , 0.97577261, 0.97520031],\n",
       "       [0.97520976, 0.97234935, 0.9750143 , 0.97482357, 0.96967385,\n",
       "        0.973107  , 0.97539107, 0.97024037, 0.97558184, 0.97520031]])"
      ]
     },
     "execution_count": 68,
     "metadata": {},
     "output_type": "execute_result"
    }
   ],
   "source": [
    "validation_scores"
   ]
  },
  {
   "cell_type": "code",
   "execution_count": 69,
   "metadata": {},
   "outputs": [
    {
     "name": "stdout",
     "output_type": "stream",
     "text": [
      "Mean training scores\n",
      "\n",
      " 4718     0.973506\n",
      "9436     0.972944\n",
      "14155    0.972738\n",
      "18873    0.973009\n",
      "23592    0.972660\n",
      "28310    0.972345\n",
      "33028    0.972708\n",
      "37747    0.973044\n",
      "42465    0.973366\n",
      "47184    0.973803\n",
      "dtype: float64\n",
      "\n",
      " --------------------\n",
      "\n",
      "Mean validation scores\n",
      "\n",
      " 4718     0.971408\n",
      "9436     0.972458\n",
      "14155    0.972973\n",
      "18873    0.972877\n",
      "23592    0.973220\n",
      "28310    0.973049\n",
      "33028    0.973297\n",
      "37747    0.973392\n",
      "42465    0.973449\n",
      "47184    0.973659\n",
      "dtype: float64\n"
     ]
    }
   ],
   "source": [
    "train_scores_mean = train_scores.mean(axis = 1)\n",
    "validation_scores_mean = validation_scores.mean(axis =1 )\n",
    "print('Mean training scores\\n\\n', pd.Series(train_scores_mean, index = train_sizes))\n",
    "print('\\n', '-' * 20) # separator\n",
    "print('\\nMean validation scores\\n\\n',pd.Series(validation_scores_mean, index = train_sizes))"
   ]
  },
  {
   "cell_type": "code",
   "execution_count": 70,
   "metadata": {},
   "outputs": [
    {
     "data": {
      "text/plain": [
       "<Figure size 800x550 with 1 Axes>"
      ]
     },
     "metadata": {},
     "output_type": "display_data"
    }
   ],
   "source": [
    "import matplotlib.pyplot as plt\n",
    "\n",
    "plt.style.use('seaborn')\n",
    "plt.plot(train_sizes, train_scores_mean, label = 'Training error')\n",
    "plt.plot(train_sizes, validation_scores_mean, label = 'Validation error')\n",
    "plt.legend()\n",
    "plt.show()"
   ]
  },
  {
   "cell_type": "code",
   "execution_count": 71,
   "metadata": {},
   "outputs": [],
   "source": [
    "lr.fit(x_train,y_train)\n",
    "y_pred=lr.predict(x_test)"
   ]
  },
  {
   "cell_type": "code",
   "execution_count": 72,
   "metadata": {},
   "outputs": [
    {
     "data": {
      "text/plain": [
       "0.974517433432517"
      ]
     },
     "execution_count": 72,
     "metadata": {},
     "output_type": "execute_result"
    }
   ],
   "source": [
    "from sklearn.metrics import accuracy_score\n",
    "accuracy_score(y_test,y_pred)"
   ]
  },
  {
   "cell_type": "code",
   "execution_count": 73,
   "metadata": {},
   "outputs": [
    {
     "data": {
      "text/plain": [
       "array([[ 1314,   217],\n",
       "       [  117, 11459]], dtype=int64)"
      ]
     },
     "execution_count": 73,
     "metadata": {},
     "output_type": "execute_result"
    }
   ],
   "source": [
    "from sklearn.metrics import confusion_matrix\n",
    "cm=confusion_matrix(y_test,y_pred)\n",
    "cm"
   ]
  },
  {
   "cell_type": "code",
   "execution_count": 74,
   "metadata": {},
   "outputs": [
    {
     "name": "stdout",
     "output_type": "stream",
     "text": [
      "              precision    recall  f1-score   support\n",
      "\n",
      "         0.0       0.92      0.86      0.89      1531\n",
      "         1.0       0.98      0.99      0.99     11576\n",
      "\n",
      "    accuracy                           0.97     13107\n",
      "   macro avg       0.95      0.92      0.94     13107\n",
      "weighted avg       0.97      0.97      0.97     13107\n",
      "\n"
     ]
    }
   ],
   "source": [
    "from sklearn.metrics import classification_report\n",
    "print(classification_report(y_test,y_pred))"
   ]
  },
  {
   "cell_type": "code",
   "execution_count": 75,
   "metadata": {},
   "outputs": [],
   "source": [
    "from sklearn.tree import DecisionTreeClassifier\n",
    "dt=DecisionTreeClassifier(criterion='gini')"
   ]
  },
  {
   "cell_type": "code",
   "execution_count": 76,
   "metadata": {},
   "outputs": [
    {
     "data": {
      "text/plain": [
       "DecisionTreeClassifier(class_weight=None, criterion='gini', max_depth=None,\n",
       "                       max_features=None, max_leaf_nodes=None,\n",
       "                       min_impurity_decrease=0.0, min_impurity_split=None,\n",
       "                       min_samples_leaf=1, min_samples_split=2,\n",
       "                       min_weight_fraction_leaf=0.0, presort=False,\n",
       "                       random_state=None, splitter='best')"
      ]
     },
     "execution_count": 76,
     "metadata": {},
     "output_type": "execute_result"
    }
   ],
   "source": [
    "dt"
   ]
  },
  {
   "cell_type": "code",
   "execution_count": null,
   "metadata": {},
   "outputs": [],
   "source": []
  },
  {
   "cell_type": "code",
   "execution_count": null,
   "metadata": {},
   "outputs": [],
   "source": []
  },
  {
   "cell_type": "code",
   "execution_count": null,
   "metadata": {},
   "outputs": [],
   "source": []
  },
  {
   "cell_type": "code",
   "execution_count": null,
   "metadata": {},
   "outputs": [],
   "source": []
  },
  {
   "cell_type": "code",
   "execution_count": 77,
   "metadata": {},
   "outputs": [],
   "source": [
    "train_sizes =np.linspace(0.1,1,10)\n",
    "X=x_train\n",
    "y=y_train\n",
    "train_sizes, train_scores, valid_scores = learning_curve( dt, X, y, train_sizes=train_sizes, cv=10)"
   ]
  },
  {
   "cell_type": "code",
   "execution_count": 78,
   "metadata": {},
   "outputs": [
    {
     "name": "stdout",
     "output_type": "stream",
     "text": [
      "Mean training scores\n",
      "\n",
      " 4718     0.997117\n",
      "9436     0.996280\n",
      "14155    0.996072\n",
      "18873    0.996021\n",
      "23592    0.995888\n",
      "28310    0.995722\n",
      "33028    0.995740\n",
      "37747    0.995896\n",
      "42465    0.995928\n",
      "47184    0.996007\n",
      "dtype: float64\n",
      "\n",
      " --------------------\n",
      "\n",
      "Mean validation scores\n",
      "\n",
      " 4718     0.969997\n",
      "9436     0.973774\n",
      "14155    0.975700\n",
      "18873    0.978428\n",
      "23592    0.978714\n",
      "28310    0.977836\n",
      "33028    0.979343\n",
      "37747    0.979114\n",
      "42465    0.979381\n",
      "47184    0.978943\n",
      "dtype: float64\n"
     ]
    }
   ],
   "source": [
    "train_scores_mean = train_scores.mean(axis = 1)\n",
    "validation_scores_mean = valid_scores.mean(axis =1 )\n",
    "print('Mean training scores\\n\\n', pd.Series(train_scores_mean, index = train_sizes))\n",
    "print('\\n', '-' * 20) # separator\n",
    "print('\\nMean validation scores\\n\\n',pd.Series(validation_scores_mean, index = train_sizes))"
   ]
  },
  {
   "cell_type": "code",
   "execution_count": 79,
   "metadata": {},
   "outputs": [
    {
     "data": {
      "image/png": "[encoded data removed]",
      "text/plain": [
       "<Figure size 576x396 with 1 Axes>"
      ]
     },
     "metadata": {},
     "output_type": "display_data"
    }
   ],
   "source": [
    "import matplotlib.pyplot as plt\n",
    "plt.style.use('seaborn')\n",
    "plt.plot(train_sizes, train_scores_mean, label = 'Training error')\n",
    "plt.plot(train_sizes, validation_scores_mean, label = 'Validation error')\n",
    "plt.legend()\n",
    "plt.show()"
   ]
  },
  {
   "cell_type": "code",
   "execution_count": 80,
   "metadata": {},
   "outputs": [],
   "source": [
    "dt.fit(x_train,y_train)\n",
    "y_pred=dt.predict(x_test)"
   ]
  },
  {
   "cell_type": "code",
   "execution_count": 81,
   "metadata": {},
   "outputs": [
    {
     "data": {
      "text/plain": [
       "0.9813076981765468"
      ]
     },
     "execution_count": 81,
     "metadata": {},
     "output_type": "execute_result"
    }
   ],
   "source": [
    "from sklearn.metrics import accuracy_score\n",
    "accuracy_score(y_pred,y_test)"
   ]
  },
  {
   "cell_type": "code",
   "execution_count": 82,
   "metadata": {},
   "outputs": [],
   "source": [
    "from sklearn.metrics import confusion_matrix\n",
    "cm=confusion_matrix(y_pred,y_test)"
   ]
  },
  {
   "cell_type": "code",
   "execution_count": 83,
   "metadata": {},
   "outputs": [
    {
     "name": "stdout",
     "output_type": "stream",
     "text": [
      "              precision    recall  f1-score   support\n",
      "\n",
      "         0.0       0.90      0.94      0.92      1531\n",
      "         1.0       0.99      0.99      0.99     11576\n",
      "\n",
      "    accuracy                           0.98     13107\n",
      "   macro avg       0.95      0.96      0.96     13107\n",
      "weighted avg       0.98      0.98      0.98     13107\n",
      "\n"
     ]
    }
   ],
   "source": [
    "from sklearn.metrics import classification_report\n",
    "print(classification_report(y_test,y_pred))"
   ]
  },
  {
   "cell_type": "code",
   "execution_count": 84,
   "metadata": {},
   "outputs": [
    {
     "data": {
      "text/html": [
       "<div>\n",
       "<style scoped>\n",
       "    .dataframe tbody tr th:only-of-type {\n",
       "        vertical-align: middle;\n",
       "    }\n",
       "\n",
       "    .dataframe tbody tr th {\n",
       "        vertical-align: top;\n",
       "    }\n",
       "\n",
       "    .dataframe thead th {\n",
       "        text-align: right;\n",
       "    }\n",
       "</style>\n",
       "<table border=\"1\" class=\"dataframe\">\n",
       "  <thead>\n",
       "    <tr style=\"text-align: right;\">\n",
       "      <th></th>\n",
       "      <th>CA_100</th>\n",
       "      <th>MTT_50</th>\n",
       "      <th>ETT_100</th>\n",
       "      <th>ETP_100</th>\n",
       "      <th>Course_Att</th>\n",
       "      <th>CA_1</th>\n",
       "      <th>CA_2</th>\n",
       "      <th>CA_3</th>\n",
       "      <th>CA_4</th>\n",
       "    </tr>\n",
       "  </thead>\n",
       "  <tbody>\n",
       "    <tr>\n",
       "      <td>38833</td>\n",
       "      <td>0.0</td>\n",
       "      <td>NaN</td>\n",
       "      <td>NaN</td>\n",
       "      <td>84.0</td>\n",
       "      <td>NaN</td>\n",
       "      <td>0.0</td>\n",
       "      <td>0.0</td>\n",
       "      <td>0.0</td>\n",
       "      <td>0.0</td>\n",
       "    </tr>\n",
       "    <tr>\n",
       "      <td>38834</td>\n",
       "      <td>77.0</td>\n",
       "      <td>NaN</td>\n",
       "      <td>0.0</td>\n",
       "      <td>NaN</td>\n",
       "      <td>94.0</td>\n",
       "      <td>29.0</td>\n",
       "      <td>44.0</td>\n",
       "      <td>0.0</td>\n",
       "      <td>4.0</td>\n",
       "    </tr>\n",
       "    <tr>\n",
       "      <td>38835</td>\n",
       "      <td>72.0</td>\n",
       "      <td>15.0</td>\n",
       "      <td>12.0</td>\n",
       "      <td>NaN</td>\n",
       "      <td>98.0</td>\n",
       "      <td>53.0</td>\n",
       "      <td>3.0</td>\n",
       "      <td>15.0</td>\n",
       "      <td>1.0</td>\n",
       "    </tr>\n",
       "    <tr>\n",
       "      <td>38836</td>\n",
       "      <td>72.0</td>\n",
       "      <td>28.0</td>\n",
       "      <td>62.0</td>\n",
       "      <td>NaN</td>\n",
       "      <td>93.0</td>\n",
       "      <td>55.0</td>\n",
       "      <td>14.0</td>\n",
       "      <td>2.0</td>\n",
       "      <td>1.0</td>\n",
       "    </tr>\n",
       "    <tr>\n",
       "      <td>40904</td>\n",
       "      <td>83.0</td>\n",
       "      <td>NaN</td>\n",
       "      <td>NaN</td>\n",
       "      <td>90.0</td>\n",
       "      <td>NaN</td>\n",
       "      <td>68.0</td>\n",
       "      <td>9.0</td>\n",
       "      <td>6.0</td>\n",
       "      <td>0.0</td>\n",
       "    </tr>\n",
       "    <tr>\n",
       "      <td>40905</td>\n",
       "      <td>87.0</td>\n",
       "      <td>NaN</td>\n",
       "      <td>60.0</td>\n",
       "      <td>NaN</td>\n",
       "      <td>84.0</td>\n",
       "      <td>73.0</td>\n",
       "      <td>7.0</td>\n",
       "      <td>1.0</td>\n",
       "      <td>6.0</td>\n",
       "    </tr>\n",
       "    <tr>\n",
       "      <td>40906</td>\n",
       "      <td>95.0</td>\n",
       "      <td>43.0</td>\n",
       "      <td>83.0</td>\n",
       "      <td>NaN</td>\n",
       "      <td>78.0</td>\n",
       "      <td>42.0</td>\n",
       "      <td>18.0</td>\n",
       "      <td>20.0</td>\n",
       "      <td>15.0</td>\n",
       "    </tr>\n",
       "    <tr>\n",
       "      <td>40907</td>\n",
       "      <td>97.0</td>\n",
       "      <td>48.0</td>\n",
       "      <td>73.0</td>\n",
       "      <td>NaN</td>\n",
       "      <td>83.0</td>\n",
       "      <td>58.0</td>\n",
       "      <td>4.0</td>\n",
       "      <td>11.0</td>\n",
       "      <td>24.0</td>\n",
       "    </tr>\n",
       "  </tbody>\n",
       "</table>\n",
       "</div>"
      ],
      "text/plain": [
       "       CA_100  MTT_50  ETT_100  ETP_100  Course_Att  CA_1  CA_2  CA_3  CA_4\n",
       "38833     0.0     NaN      NaN     84.0         NaN   0.0   0.0   0.0   0.0\n",
       "38834    77.0     NaN      0.0      NaN        94.0  29.0  44.0   0.0   4.0\n",
       "38835    72.0    15.0     12.0      NaN        98.0  53.0   3.0  15.0   1.0\n",
       "38836    72.0    28.0     62.0      NaN        93.0  55.0  14.0   2.0   1.0\n",
       "40904    83.0     NaN      NaN     90.0         NaN  68.0   9.0   6.0   0.0\n",
       "40905    87.0     NaN     60.0      NaN        84.0  73.0   7.0   1.0   6.0\n",
       "40906    95.0    43.0     83.0      NaN        78.0  42.0  18.0  20.0  15.0\n",
       "40907    97.0    48.0     73.0      NaN        83.0  58.0   4.0  11.0  24.0"
      ]
     },
     "execution_count": 84,
     "metadata": {},
     "output_type": "execute_result"
    }
   ],
   "source": [
    "validation_x"
   ]
  },
  {
   "cell_type": "code",
   "execution_count": 85,
   "metadata": {},
   "outputs": [
    {
     "data": {
      "text/plain": [
       "array([[ 0.        , 33.5       , 48.33333333, 84.        , 88.33333333,\n",
       "         0.        ,  0.        ,  0.        ,  0.        ],\n",
       "       [77.        , 33.5       ,  0.        , 87.        , 94.        ,\n",
       "        29.        , 44.        ,  0.        ,  4.        ],\n",
       "       [72.        , 15.        , 12.        , 87.        , 98.        ,\n",
       "        53.        ,  3.        , 15.        ,  1.        ],\n",
       "       [72.        , 28.        , 62.        , 87.        , 93.        ,\n",
       "        55.        , 14.        ,  2.        ,  1.        ],\n",
       "       [83.        , 33.5       , 48.33333333, 90.        , 88.33333333,\n",
       "        68.        ,  9.        ,  6.        ,  0.        ],\n",
       "       [87.        , 33.5       , 60.        , 87.        , 84.        ,\n",
       "        73.        ,  7.        ,  1.        ,  6.        ],\n",
       "       [95.        , 43.        , 83.        , 87.        , 78.        ,\n",
       "        42.        , 18.        , 20.        , 15.        ],\n",
       "       [97.        , 48.        , 73.        , 87.        , 83.        ,\n",
       "        58.        ,  4.        , 11.        , 24.        ]])"
      ]
     },
     "execution_count": 85,
     "metadata": {},
     "output_type": "execute_result"
    }
   ],
   "source": [
    "validation_x=im.fit_transform(validation_x)\n",
    "validation_x"
   ]
  },
  {
   "cell_type": "code",
   "execution_count": 86,
   "metadata": {},
   "outputs": [],
   "source": [
    "validation_x=ss.fit_transform(validation_x)"
   ]
  },
  {
   "cell_type": "code",
   "execution_count": 87,
   "metadata": {},
   "outputs": [],
   "source": [
    "y_pred=dt.predict(validation_x)"
   ]
  },
  {
   "cell_type": "code",
   "execution_count": 88,
   "metadata": {},
   "outputs": [
    {
     "data": {
      "text/plain": [
       "38833    0\n",
       "38834    0\n",
       "38835    0\n",
       "38836    1\n",
       "40904    1\n",
       "40905    1\n",
       "40906    1\n",
       "40907    1\n",
       "Name: Result, dtype: int64"
      ]
     },
     "execution_count": 88,
     "metadata": {},
     "output_type": "execute_result"
    }
   ],
   "source": [
    "validation_y"
   ]
  },
  {
   "cell_type": "code",
   "execution_count": 89,
   "metadata": {},
   "outputs": [
    {
     "data": {
      "text/plain": [
       "array([0, 0, 0, 1, 1, 1, 1, 1])"
      ]
     },
     "execution_count": 89,
     "metadata": {},
     "output_type": "execute_result"
    }
   ],
   "source": [
    "y_pred"
   ]
  },
  {
   "cell_type": "code",
   "execution_count": 90,
   "metadata": {},
   "outputs": [
    {
     "data": {
      "text/plain": [
       "1.0"
      ]
     },
     "execution_count": 90,
     "metadata": {},
     "output_type": "execute_result"
    }
   ],
   "source": [
    "accuracy_score(validation_y,y_pred)"
   ]
  },
  {
   "cell_type": "code",
   "execution_count": 91,
   "metadata": {},
   "outputs": [
    {
     "data": {
      "text/plain": [
       "array([[3, 0],\n",
       "       [0, 5]], dtype=int64)"
      ]
     },
     "execution_count": 91,
     "metadata": {},
     "output_type": "execute_result"
    }
   ],
   "source": [
    "cm_for_validation=confusion_matrix(validation_y,y_pred)\n",
    "cm_for_validation"
   ]
  },
  {
   "cell_type": "code",
   "execution_count": 92,
   "metadata": {},
   "outputs": [
    {
     "data": {
      "image/png": "[encoded data removed]",
      "text/plain": [
       "<Figure size 360x216 with 2 Axes>"
      ]
     },
     "metadata": {},
     "output_type": "display_data"
    }
   ],
   "source": [
    "import seaborn as sns\n",
    "plt.figure(figsize=(5,3))\n",
    "sns.heatmap(cm_for_validation,annot=True)\n",
    "plt.show()"
   ]
  },
  {
   "cell_type": "code",
   "execution_count": 93,
   "metadata": {},
   "outputs": [
    {
     "name": "stdout",
     "output_type": "stream",
     "text": [
      "              precision    recall  f1-score   support\n",
      "\n",
      "           0       1.00      1.00      1.00         3\n",
      "           1       1.00      1.00      1.00         5\n",
      "\n",
      "    accuracy                           1.00         8\n",
      "   macro avg       1.00      1.00      1.00         8\n",
      "weighted avg       1.00      1.00      1.00         8\n",
      "\n"
     ]
    }
   ],
   "source": [
    "print(classification_report(validation_y,y_pred))"
   ]
  },
  {
   "cell_type": "code",
   "execution_count": 94,
   "metadata": {},
   "outputs": [],
   "source": [
    "from sklearn.svm import SVC\n",
    "from sklearn.tree import DecisionTreeClassifier\n",
    "from sklearn.linear_model import LogisticRegression\n",
    "from sklearn.ensemble import VotingClassifier\n",
    "svm=SVC(kernel='linear',C=1.0)\n",
    "lr1=LogisticRegression(solver='liblinear',C=0.02)\n",
    "dt1=DecisionTreeClassifier()\n",
    "vc=VotingClassifier(estimators=[('lr',lr1),('dt',dt1),('svm',svm)])"
   ]
  },
  {
   "cell_type": "code",
   "execution_count": 95,
   "metadata": {},
   "outputs": [
    {
     "data": {
      "text/plain": [
       "VotingClassifier(estimators=[('lr',\n",
       "                              LogisticRegression(C=0.02, class_weight=None,\n",
       "                                                 dual=False, fit_intercept=True,\n",
       "                                                 intercept_scaling=1,\n",
       "                                                 l1_ratio=None, max_iter=100,\n",
       "                                                 multi_class='warn',\n",
       "                                                 n_jobs=None, penalty='l2',\n",
       "                                                 random_state=None,\n",
       "                                                 solver='liblinear', tol=0.0001,\n",
       "                                                 verbose=0, warm_start=False)),\n",
       "                             ('dt',\n",
       "                              DecisionTreeClassifier(class_weight=None,\n",
       "                                                     criterion='gini',\n",
       "                                                     max_depth...\n",
       "                                                     min_weight_fraction_leaf=0.0,\n",
       "                                                     presort=False,\n",
       "                                                     random_state=None,\n",
       "                                                     splitter='best')),\n",
       "                             ('svm',\n",
       "                              SVC(C=1.0, cache_size=200, class_weight=None,\n",
       "                                  coef0=0.0, decision_function_shape='ovr',\n",
       "                                  degree=3, gamma='auto_deprecated',\n",
       "                                  kernel='linear', max_iter=-1,\n",
       "                                  probability=False, random_state=None,\n",
       "                                  shrinking=True, tol=0.001, verbose=False))],\n",
       "                 flatten_transform=True, n_jobs=None, voting='hard',\n",
       "                 weights=None)"
      ]
     },
     "execution_count": 95,
     "metadata": {},
     "output_type": "execute_result"
    }
   ],
   "source": [
    "vc.fit(x_train,y_train)"
   ]
  },
  {
   "cell_type": "code",
   "execution_count": 96,
   "metadata": {},
   "outputs": [],
   "source": [
    "y_pred=vc.predict(x_test)"
   ]
  },
  {
   "cell_type": "code",
   "execution_count": 99,
   "metadata": {},
   "outputs": [
    {
     "data": {
      "text/plain": [
       "0.976272220950637"
      ]
     },
     "execution_count": 99,
     "metadata": {},
     "output_type": "execute_result"
    }
   ],
   "source": [
    "accuracy_score(y_test,y_pred)"
   ]
  },
  {
   "cell_type": "code",
   "execution_count": 122,
   "metadata": {},
   "outputs": [],
   "source": [
    "from sklearn.model_selection import validation_curve\n",
    "train_sizes =np.linspace(0.1,1,10)\n",
    "X=x_train\n",
    "y=y_train\n",
    "train_sizes, train_scores, valid_scores = learning_curve( vc, X, y, train_sizes=train_sizes, cv=10,scoring='f1')"
   ]
  },
  {
   "cell_type": "code",
   "execution_count": 101,
   "metadata": {},
   "outputs": [
    {
     "data": {
      "text/plain": [
       "dict_keys(['explained_variance', 'r2', 'max_error', 'neg_median_absolute_error', 'neg_mean_absolute_error', 'neg_mean_squared_error', 'neg_mean_squared_log_error', 'accuracy', 'roc_auc', 'balanced_accuracy', 'average_precision', 'neg_log_loss', 'brier_score_loss', 'adjusted_rand_score', 'homogeneity_score', 'completeness_score', 'v_measure_score', 'mutual_info_score', 'adjusted_mutual_info_score', 'normalized_mutual_info_score', 'fowlkes_mallows_score', 'precision', 'precision_macro', 'precision_micro', 'precision_samples', 'precision_weighted', 'recall', 'recall_macro', 'recall_micro', 'recall_samples', 'recall_weighted', 'f1', 'f1_macro', 'f1_micro', 'f1_samples', 'f1_weighted', 'jaccard', 'jaccard_macro', 'jaccard_micro', 'jaccard_samples', 'jaccard_weighted'])"
      ]
     },
     "execution_count": 101,
     "metadata": {},
     "output_type": "execute_result"
    }
   ],
   "source": [
    "from sklearn import metrics\n",
    "metrics.SCORERS.keys()"
   ]
  },
  {
   "cell_type": "code",
   "execution_count": 124,
   "metadata": {},
   "outputs": [
    {
     "name": "stdout",
     "output_type": "stream",
     "text": [
      "Mean training scores\n",
      "\n",
      " 4718     0.987081\n",
      "9436     0.986812\n",
      "14155    0.986923\n",
      "18873    0.987014\n",
      "23592    0.986745\n",
      "28310    0.986632\n",
      "33028    0.986615\n",
      "37747    0.986678\n",
      "42465    0.986887\n",
      "47184    0.987120\n",
      "dtype: float64\n",
      "\n",
      " --------------------\n",
      "\n",
      "Mean validation scores\n",
      "\n",
      " 4718     0.985095\n",
      "9436     0.985542\n",
      "14155    0.986309\n",
      "18873    0.986331\n",
      "23592    0.986539\n",
      "28310    0.986508\n",
      "33028    0.986305\n",
      "37747    0.986443\n",
      "42465    0.986525\n",
      "47184    0.986598\n",
      "dtype: float64\n"
     ]
    }
   ],
   "source": [
    "train_scores_mean = train_scores.mean(axis = 1)\n",
    "validation_scores_mean = valid_scores.mean(axis =1 )\n",
    "print('Mean training scores\\n\\n', pd.Series(train_scores_mean, index = train_sizes))\n",
    "print('\\n', '-' * 20) # separator\n",
    "print('\\nMean validation scores\\n\\n',pd.Series(validation_scores_mean, index = train_sizes))"
   ]
  },
  {
   "cell_type": "code",
   "execution_count": 125,
   "metadata": {},
   "outputs": [
    {
     "data": {
      "image/png": "[encoded data removed]",
      "text/plain": [
       "<Figure size 576x396 with 1 Axes>"
      ]
     },
     "metadata": {},
     "output_type": "display_data"
    }
   ],
   "source": [
    "import matplotlib.pyplot as plt\n",
    "plt.style.use('seaborn')\n",
    "plt.plot(train_sizes, train_scores_mean, label = 'Training error')\n",
    "plt.plot(train_sizes, validation_scores_mean, label = 'Validation error')\n",
    "plt.legend()\n",
    "plt.show()"
   ]
  },
  {
   "cell_type": "code",
   "execution_count": 104,
   "metadata": {},
   "outputs": [
    {
     "name": "stderr",
     "output_type": "stream",
     "text": [
      "Using TensorFlow backend.\n"
     ]
    }
   ],
   "source": [
    "import numpy as np\n",
    "\n",
    "import pandas as pd\n",
    "import matplotlib.pyplot as plt\n",
    "\n",
    "import keras\n",
    "from keras.models import Sequential\n",
    "from keras.layers import Dense, Activation, Dropout, Flatten"
   ]
  },
  {
   "cell_type": "code",
   "execution_count": 105,
   "metadata": {},
   "outputs": [
    {
     "name": "stderr",
     "output_type": "stream",
     "text": [
      "WARNING: Logging before flag parsing goes to stderr.\n",
      "W0413 02:23:44.096169 12888 deprecation_wrapper.py:119] From C:\\Users\\Shiva Chandra\\Anaconda3\\envs\\tensorflow\\lib\\site-packages\\keras\\backend\\tensorflow_backend.py:66: The name tf.get_default_graph is deprecated. Please use tf.compat.v1.get_default_graph instead.\n",
      "\n",
      "C:\\Users\\Shiva Chandra\\Anaconda3\\envs\\tensorflow\\lib\\site-packages\\ipykernel_launcher.py:3: UserWarning: Update your `Dense` call to the Keras 2 API: `Dense(input_dim=9, activation=\"relu\", units=16, kernel_initializer=\"uniform\")`\n",
      "  This is separate from the ipykernel package so we can avoid doing imports until\n",
      "W0413 02:23:45.055337 12888 deprecation_wrapper.py:119] From C:\\Users\\Shiva Chandra\\Anaconda3\\envs\\tensorflow\\lib\\site-packages\\keras\\backend\\tensorflow_backend.py:541: The name tf.placeholder is deprecated. Please use tf.compat.v1.placeholder instead.\n",
      "\n",
      "W0413 02:23:45.121161 12888 deprecation_wrapper.py:119] From C:\\Users\\Shiva Chandra\\Anaconda3\\envs\\tensorflow\\lib\\site-packages\\keras\\backend\\tensorflow_backend.py:4432: The name tf.random_uniform is deprecated. Please use tf.random.uniform instead.\n",
      "\n",
      "C:\\Users\\Shiva Chandra\\Anaconda3\\envs\\tensorflow\\lib\\site-packages\\ipykernel_launcher.py:5: UserWarning: Update your `Dense` call to the Keras 2 API: `Dense(activation=\"relu\", units=8, kernel_initializer=\"uniform\")`\n",
      "  \"\"\"\n",
      "C:\\Users\\Shiva Chandra\\Anaconda3\\envs\\tensorflow\\lib\\site-packages\\ipykernel_launcher.py:7: UserWarning: Update your `Dense` call to the Keras 2 API: `Dense(activation=\"relu\", units=5, kernel_initializer=\"uniform\")`\n",
      "  import sys\n",
      "C:\\Users\\Shiva Chandra\\Anaconda3\\envs\\tensorflow\\lib\\site-packages\\ipykernel_launcher.py:9: UserWarning: Update your `Dense` call to the Keras 2 API: `Dense(activation=\"relu\", units=3, kernel_initializer=\"uniform\")`\n",
      "  if __name__ == '__main__':\n",
      "C:\\Users\\Shiva Chandra\\Anaconda3\\envs\\tensorflow\\lib\\site-packages\\ipykernel_launcher.py:11: UserWarning: Update your `Dense` call to the Keras 2 API: `Dense(activation=\"sigmoid\", units=1)`\n",
      "  # This is added back by InteractiveShellApp.init_path()\n",
      "W0413 02:23:45.317635 12888 deprecation_wrapper.py:119] From C:\\Users\\Shiva Chandra\\Anaconda3\\envs\\tensorflow\\lib\\site-packages\\keras\\optimizers.py:793: The name tf.train.Optimizer is deprecated. Please use tf.compat.v1.train.Optimizer instead.\n",
      "\n",
      "W0413 02:23:45.374485 12888 deprecation_wrapper.py:119] From C:\\Users\\Shiva Chandra\\Anaconda3\\envs\\tensorflow\\lib\\site-packages\\keras\\backend\\tensorflow_backend.py:3657: The name tf.log is deprecated. Please use tf.math.log instead.\n",
      "\n",
      "W0413 02:23:45.383461 12888 deprecation.py:323] From C:\\Users\\Shiva Chandra\\Anaconda3\\envs\\tensorflow\\lib\\site-packages\\tensorflow\\python\\ops\\nn_impl.py:180: add_dispatch_support.<locals>.wrapper (from tensorflow.python.ops.array_ops) is deprecated and will be removed in a future version.\n",
      "Instructions for updating:\n",
      "Use tf.where in 2.0, which has the same broadcast rule as np.where\n"
     ]
    },
    {
     "name": "stdout",
     "output_type": "stream",
     "text": [
      "Model: \"sequential_1\"\n",
      "_________________________________________________________________\n",
      "Layer (type)                 Output Shape              Param #   \n",
      "=================================================================\n",
      "dense_1 (Dense)              (None, 16)                160       \n",
      "_________________________________________________________________\n",
      "dense_2 (Dense)              (None, 8)                 136       \n",
      "_________________________________________________________________\n",
      "dense_3 (Dense)              (None, 5)                 45        \n",
      "_________________________________________________________________\n",
      "dense_4 (Dense)              (None, 3)                 18        \n",
      "_________________________________________________________________\n",
      "dense_5 (Dense)              (None, 1)                 4         \n",
      "=================================================================\n",
      "Total params: 363\n",
      "Trainable params: 363\n",
      "Non-trainable params: 0\n",
      "_________________________________________________________________\n"
     ]
    }
   ],
   "source": [
    "classifier=Sequential()\n",
    "# 1st Input Layer \n",
    "classifier.add(Dense(output_dim=16,init='uniform',input_dim=9,activation='relu'))\n",
    "# 1st Hidden Layer\n",
    "classifier.add(Dense(output_dim=8,init='uniform',activation='relu'))\n",
    "# 2nd Hidden Layer\n",
    "classifier.add(Dense(output_dim=5,init='uniform',activation='relu'))\n",
    "# 3rd Hidden Layer\n",
    "classifier.add(Dense(output_dim=3,init='uniform',activation='relu'))\n",
    "#output layer\n",
    "classifier.add(Dense(output_dim=1,activation='sigmoid'))\n",
    "\n",
    "classifier.summary()\n",
    "\n",
    "classifier.compile(loss='binary_crossentropy', optimizer='adam', metrics=['accuracy'])"
   ]
  },
  {
   "cell_type": "code",
   "execution_count": 106,
   "metadata": {},
   "outputs": [
    {
     "name": "stderr",
     "output_type": "stream",
     "text": [
      "C:\\Users\\Shiva Chandra\\Anaconda3\\envs\\tensorflow\\lib\\site-packages\\ipykernel_launcher.py:1: UserWarning: The `nb_epoch` argument in `fit` has been renamed `epochs`.\n",
      "  \"\"\"Entry point for launching an IPython kernel.\n",
      "W0413 02:23:45.946101 12888 deprecation_wrapper.py:119] From C:\\Users\\Shiva Chandra\\Anaconda3\\envs\\tensorflow\\lib\\site-packages\\keras\\backend\\tensorflow_backend.py:1033: The name tf.assign_add is deprecated. Please use tf.compat.v1.assign_add instead.\n",
      "\n"
     ]
    },
    {
     "name": "stdout",
     "output_type": "stream",
     "text": [
      "Train on 47185 samples, validate on 5243 samples\n",
      "Epoch 1/10\n",
      "47185/47185 [==============================] - 36s 758us/step - loss: 0.1730 - acc: 0.9242 - val_loss: 0.0939 - val_acc: 0.9800\n",
      "Epoch 2/10\n",
      "47185/47185 [==============================] - 10s 204us/step - loss: 0.0874 - acc: 0.9793 - val_loss: 0.0707 - val_acc: 0.9819\n",
      "Epoch 3/10\n",
      "47185/47185 [==============================] - 9s 199us/step - loss: 0.0709 - acc: 0.9794 - val_loss: 0.0596 - val_acc: 0.9823\n",
      "Epoch 4/10\n",
      "47185/47185 [==============================] - 10s 212us/step - loss: 0.0635 - acc: 0.9803 - val_loss: 0.0547 - val_acc: 0.9823\n",
      "Epoch 5/10\n",
      "47185/47185 [==============================] - 11s 232us/step - loss: 0.0597 - acc: 0.9803 - val_loss: 0.0507 - val_acc: 0.9846\n",
      "Epoch 6/10\n",
      "47185/47185 [==============================] - 11s 241us/step - loss: 0.0561 - acc: 0.9814 - val_loss: 0.0476 - val_acc: 0.9851\n",
      "Epoch 7/10\n",
      "47185/47185 [==============================] - 10s 218us/step - loss: 0.0541 - acc: 0.9823 - val_loss: 0.0470 - val_acc: 0.9853\n",
      "Epoch 8/10\n",
      "47185/47185 [==============================] - 9s 193us/step - loss: 0.0535 - acc: 0.9823 - val_loss: 0.0453 - val_acc: 0.9857\n",
      "Epoch 9/10\n",
      "47185/47185 [==============================] - 8s 178us/step - loss: 0.0529 - acc: 0.9827 - val_loss: 0.0461 - val_acc: 0.9859\n",
      "Epoch 10/10\n",
      "47185/47185 [==============================] - 8s 180us/step - loss: 0.0526 - acc: 0.9829 - val_loss: 0.0470 - val_acc: 0.9844\n"
     ]
    }
   ],
   "source": [
    "history=classifier.fit(x_train,y_train,verbose=1,validation_split=0.2,nb_epoch=10)"
   ]
  },
  {
   "cell_type": "code",
   "execution_count": 107,
   "metadata": {},
   "outputs": [],
   "source": [
    "y_pred=classifier.predict(x_test)"
   ]
  },
  {
   "cell_type": "code",
   "execution_count": 108,
   "metadata": {},
   "outputs": [
    {
     "data": {
      "text/plain": [
       "array([[ True],\n",
       "       [ True],\n",
       "       [ True],\n",
       "       ...,\n",
       "       [ True],\n",
       "       [ True],\n",
       "       [False]])"
      ]
     },
     "execution_count": 108,
     "metadata": {},
     "output_type": "execute_result"
    }
   ],
   "source": [
    "y_pred=(y_pred>0.5)\n",
    "y_pred"
   ]
  },
  {
   "cell_type": "code",
   "execution_count": 109,
   "metadata": {},
   "outputs": [
    {
     "name": "stdout",
     "output_type": "stream",
     "text": [
      "0.9834439612420843\n"
     ]
    }
   ],
   "source": [
    "print(accuracy_score(y_test,y_pred))"
   ]
  },
  {
   "cell_type": "code",
   "execution_count": 110,
   "metadata": {},
   "outputs": [
    {
     "data": {
      "text/plain": [
       "dict_keys(['val_loss', 'val_acc', 'loss', 'acc'])"
      ]
     },
     "execution_count": 110,
     "metadata": {},
     "output_type": "execute_result"
    }
   ],
   "source": [
    "history.history.keys()"
   ]
  },
  {
   "cell_type": "markdown",
   "metadata": {},
   "source": [
    "### Plotting the graphs of Accuracy and Loss of ANN"
   ]
  },
  {
   "cell_type": "code",
   "execution_count": 121,
   "metadata": {},
   "outputs": [
    {
     "data": {
      "image/png": "[encoded data removed]",
      "text/plain": [
       "<Figure size 576x288 with 1 Axes>"
      ]
     },
     "metadata": {},
     "output_type": "display_data"
    },
    {
     "data": {
      "image/png": "[encoded data removed]",
      "text/plain": [
       "<Figure size 576x288 with 1 Axes>"
      ]
     },
     "metadata": {},
     "output_type": "display_data"
    }
   ],
   "source": [
    "import matplotlib.pyplot as plt\n",
    "# Plot training & validation accuracy values\n",
    "plt.figure(figsize=(8,4))\n",
    "plt.plot(history.history['acc'])\n",
    "plt.plot(history.history['val_acc'])\n",
    "plt.title('Model accuracy')\n",
    "plt.ylabel('Accuracy')\n",
    "plt.xlabel('Epoch')\n",
    "plt.legend(['Train', 'Test'], loc='lower right')\n",
    "plt.show()\n",
    "\n",
    "# Plot training & validation loss values\n",
    "plt.figure(figsize=(8,4))\n",
    "plt.plot(history.history['loss'])\n",
    "plt.plot(history.history['val_loss'])\n",
    "plt.title('Model loss')\n",
    "plt.ylabel('Loss')\n",
    "plt.xlabel('Epoch')\n",
    "plt.legend(['Train', 'Test'], loc='upper right')\n",
    "plt.show()"
   ]
  },
  {
   "cell_type": "code",
   "execution_count": 112,
   "metadata": {},
   "outputs": [],
   "source": [
    "predictions=classifier.predict(validation_x)\n",
    "predictions=(predictions>0.5)"
   ]
  },
  {
   "cell_type": "code",
   "execution_count": 113,
   "metadata": {},
   "outputs": [
    {
     "name": "stdout",
     "output_type": "stream",
     "text": [
      "0.875\n"
     ]
    }
   ],
   "source": [
    "print(accuracy_score(validation_y,predictions))"
   ]
  },
  {
   "cell_type": "code",
   "execution_count": 114,
   "metadata": {},
   "outputs": [
    {
     "data": {
      "text/plain": [
       "array([[2, 1],\n",
       "       [0, 5]], dtype=int64)"
      ]
     },
     "execution_count": 114,
     "metadata": {},
     "output_type": "execute_result"
    }
   ],
   "source": [
    "cm=confusion_matrix(validation_y,predictions)\n",
    "cm"
   ]
  },
  {
   "cell_type": "code",
   "execution_count": 115,
   "metadata": {},
   "outputs": [
    {
     "data": {
      "text/plain": [
       "<matplotlib.image.AxesImage at 0x1cc2fb6e668>"
      ]
     },
     "execution_count": 115,
     "metadata": {},
     "output_type": "execute_result"
    },
    {
     "data": {
      "image/png": "[encoded data removed]",
      "text/plain": [
       "<Figure size 396x396 with 1 Axes>"
      ]
     },
     "metadata": {},
     "output_type": "display_data"
    }
   ],
   "source": [
    "import pylab as pl\n",
    "pl.matshow(cm)"
   ]
  },
  {
   "cell_type": "code",
   "execution_count": null,
   "metadata": {},
   "outputs": [],
   "source": []
  },
  {
   "cell_type": "code",
   "execution_count": null,
   "metadata": {},
   "outputs": [],
   "source": []
  },
  {
   "cell_type": "code",
   "execution_count": null,
   "metadata": {},
   "outputs": [],
   "source": []
  }
 ],
 "metadata": {
  "kernelspec": {
   "display_name": "tensorflow",
   "language": "python",
   "name": "tensorflow"
  },
  "language_info": {
   "codemirror_mode": {
    "name": "ipython",
    "version": 3
   },
   "file_extension": ".py",
   "mimetype": "text/x-python",
   "name": "python",
   "nbconvert_exporter": "python",
   "pygments_lexer": "ipython3",
   "version": "3.6.9"
  }
 },
 "nbformat": 4,
 "nbformat_minor": 2
}
